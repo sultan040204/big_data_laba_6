{
  "cells": [
    {
      "cell_type": "markdown",
      "id": "9cba2fad-99ef-4d4b-8731-dc482a5933df",
      "metadata": {
        "id": "9cba2fad-99ef-4d4b-8731-dc482a5933df"
      },
      "source": [
        "### Abykeev Sultan\n",
        "### AIN-2-21"
      ]
    },
    {
      "cell_type": "code",
      "execution_count": null,
      "id": "bdcdd25f-f971-40bb-a3f5-1d4c844bd8e0",
      "metadata": {
        "id": "bdcdd25f-f971-40bb-a3f5-1d4c844bd8e0"
      },
      "outputs": [],
      "source": [
        "from sklearn.model_selection import cross_val_score\n",
        "from sklearn.datasets import load_iris\n",
        "from sklearn.linear_model import LogisticRegression\n",
        "\n"
      ]
    },
    {
      "cell_type": "code",
      "execution_count": null,
      "id": "f614ca49-bbe0-40d2-93d5-616d3ca96e5f",
      "metadata": {
        "id": "f614ca49-bbe0-40d2-93d5-616d3ca96e5f",
        "outputId": "d1545430-63b3-4a31-d1b0-c1af32371003"
      },
      "outputs": [
        {
          "name": "stdout",
          "output_type": "stream",
          "text": [
            "Cross-validation scores: [0.96666667 1.         0.93333333 0.96666667 1.        ]\n"
          ]
        }
      ],
      "source": [
        "iris = load_iris()\n",
        "logreg = LogisticRegression(max_iter = 1000)\n",
        "\n",
        "scores = cross_val_score(logreg, iris.data, iris.target)\n",
        "print(\"Cross-validation scores: {}\".format(scores))"
      ]
    },
    {
      "cell_type": "code",
      "execution_count": null,
      "id": "c5fd229b-6828-4967-8d6a-48db33c44b34",
      "metadata": {
        "id": "c5fd229b-6828-4967-8d6a-48db33c44b34",
        "outputId": "8d66780a-9217-4885-b573-22e821f52ecf"
      },
      "outputs": [
        {
          "name": "stdout",
          "output_type": "stream",
          "text": [
            "Средняя правильность перекрестной проверки: 0.97\n"
          ]
        }
      ],
      "source": [
        "print(\"Средняя правильность перекрестной проверки: {:.2f}\".format(scores.mean()))"
      ]
    },
    {
      "cell_type": "code",
      "execution_count": null,
      "id": "02b3adc0-a068-436f-aa8d-7f3cdc82ad50",
      "metadata": {
        "id": "02b3adc0-a068-436f-aa8d-7f3cdc82ad50",
        "outputId": "bf280452-8c85-4697-fe27-ec99990918dc"
      },
      "outputs": [
        {
          "data": {
            "text/plain": [
              "{'fit_time': array([0.09419417, 0.03979063, 0.04686332, 0.03809333, 0.03220773]),\n",
              " 'score_time': array([0., 0., 0., 0., 0.]),\n",
              " 'test_score': array([0.96666667, 1.        , 0.93333333, 0.96666667, 1.        ]),\n",
              " 'train_score': array([0.96666667, 0.96666667, 0.98333333, 0.98333333, 0.975     ])}"
            ]
          },
          "metadata": {},
          "output_type": "display_data"
        }
      ],
      "source": [
        "from sklearn.model_selection import cross_validate\n",
        "res = cross_validate(logreg, iris.data, iris.target, cv = 5, return_train_score = True)\n",
        "display(res)"
      ]
    },
    {
      "cell_type": "code",
      "execution_count": null,
      "id": "876aec5b-92a3-40ff-a4e4-150b3c30e10d",
      "metadata": {
        "id": "876aec5b-92a3-40ff-a4e4-150b3c30e10d",
        "outputId": "9155b89c-d67b-4578-c005-d2cc2a74e447"
      },
      "outputs": [
        {
          "data": {
            "text/html": [
              "<div>\n",
              "<style scoped>\n",
              "    .dataframe tbody tr th:only-of-type {\n",
              "        vertical-align: middle;\n",
              "    }\n",
              "\n",
              "    .dataframe tbody tr th {\n",
              "        vertical-align: top;\n",
              "    }\n",
              "\n",
              "    .dataframe thead th {\n",
              "        text-align: right;\n",
              "    }\n",
              "</style>\n",
              "<table border=\"1\" class=\"dataframe\">\n",
              "  <thead>\n",
              "    <tr style=\"text-align: right;\">\n",
              "      <th></th>\n",
              "      <th>fit_time</th>\n",
              "      <th>score_time</th>\n",
              "      <th>test_score</th>\n",
              "      <th>train_score</th>\n",
              "    </tr>\n",
              "  </thead>\n",
              "  <tbody>\n",
              "    <tr>\n",
              "      <th>0</th>\n",
              "      <td>0.094194</td>\n",
              "      <td>0.0</td>\n",
              "      <td>0.966667</td>\n",
              "      <td>0.966667</td>\n",
              "    </tr>\n",
              "    <tr>\n",
              "      <th>1</th>\n",
              "      <td>0.039791</td>\n",
              "      <td>0.0</td>\n",
              "      <td>1.000000</td>\n",
              "      <td>0.966667</td>\n",
              "    </tr>\n",
              "    <tr>\n",
              "      <th>2</th>\n",
              "      <td>0.046863</td>\n",
              "      <td>0.0</td>\n",
              "      <td>0.933333</td>\n",
              "      <td>0.983333</td>\n",
              "    </tr>\n",
              "    <tr>\n",
              "      <th>3</th>\n",
              "      <td>0.038093</td>\n",
              "      <td>0.0</td>\n",
              "      <td>0.966667</td>\n",
              "      <td>0.983333</td>\n",
              "    </tr>\n",
              "    <tr>\n",
              "      <th>4</th>\n",
              "      <td>0.032208</td>\n",
              "      <td>0.0</td>\n",
              "      <td>1.000000</td>\n",
              "      <td>0.975000</td>\n",
              "    </tr>\n",
              "  </tbody>\n",
              "</table>\n",
              "</div>"
            ],
            "text/plain": [
              "   fit_time  score_time  test_score  train_score\n",
              "0  0.094194         0.0    0.966667     0.966667\n",
              "1  0.039791         0.0    1.000000     0.966667\n",
              "2  0.046863         0.0    0.933333     0.983333\n",
              "3  0.038093         0.0    0.966667     0.983333\n",
              "4  0.032208         0.0    1.000000     0.975000"
            ]
          },
          "metadata": {},
          "output_type": "display_data"
        },
        {
          "name": "stdout",
          "output_type": "stream",
          "text": [
            "Mean times and scores:\n",
            " fit_time       0.050230\n",
            "score_time     0.000000\n",
            "test_score     0.973333\n",
            "train_score    0.975000\n",
            "dtype: float64\n"
          ]
        }
      ],
      "source": [
        "import pandas as pd\n",
        "res_df = pd.DataFrame(res)\n",
        "display(res_df)\n",
        "print(\"Mean times and scores:\\n\", res_df.mean())"
      ]
    },
    {
      "cell_type": "code",
      "execution_count": null,
      "id": "292ca66d-6fd0-4105-8ecd-3fe5a09f82e0",
      "metadata": {
        "id": "292ca66d-6fd0-4105-8ecd-3fe5a09f82e0",
        "outputId": "acaa4388-19cb-4d27-e53b-134a2cac9544"
      },
      "outputs": [
        {
          "name": "stdout",
          "output_type": "stream",
          "text": [
            "Метки ирисов:\n",
            "[0 0 0 0 0 0 0 0 0 0 0 0 0 0 0 0 0 0 0 0 0 0 0 0 0 0 0 0 0 0 0 0 0 0 0 0 0\n",
            " 0 0 0 0 0 0 0 0 0 0 0 0 0 1 1 1 1 1 1 1 1 1 1 1 1 1 1 1 1 1 1 1 1 1 1 1 1\n",
            " 1 1 1 1 1 1 1 1 1 1 1 1 1 1 1 1 1 1 1 1 1 1 1 1 1 1 2 2 2 2 2 2 2 2 2 2 2\n",
            " 2 2 2 2 2 2 2 2 2 2 2 2 2 2 2 2 2 2 2 2 2 2 2 2 2 2 2 2 2 2 2 2 2 2 2 2 2\n",
            " 2 2]\n"
          ]
        }
      ],
      "source": [
        "from sklearn.datasets import load_iris\n",
        "iris = load_iris()\n",
        "print(\"Метки ирисов:\\n{}\".format(iris.target))"
      ]
    },
    {
      "cell_type": "code",
      "execution_count": null,
      "id": "2f48dcd2-23c3-4c5e-9a23-80bcd57371bf",
      "metadata": {
        "id": "2f48dcd2-23c3-4c5e-9a23-80bcd57371bf",
        "outputId": "fc79b29b-02de-42da-a4c8-a96541d7590b"
      },
      "outputs": [
        {
          "data": {
            "image/png": "[encoded data removed]",
            "text/plain": [
              "<Figure size 1200x500 with 2 Axes>"
            ]
          },
          "metadata": {},
          "output_type": "display_data"
        }
      ],
      "source": [
        "import mglearn.datasets\n",
        "\n",
        "mglearn.plots.plot_stratified_cross_validation()"
      ]
    },
    {
      "cell_type": "code",
      "execution_count": null,
      "id": "abe5ba1b-3f6c-4388-92d2-b827767ecb18",
      "metadata": {
        "id": "abe5ba1b-3f6c-4388-92d2-b827767ecb18"
      },
      "outputs": [],
      "source": [
        "from sklearn.model_selection import KFold\n",
        "kfold = KFold(n_splits = 5)"
      ]
    },
    {
      "cell_type": "code",
      "execution_count": null,
      "id": "941f7199-59b0-479c-b6e4-abc25071a31e",
      "metadata": {
        "id": "941f7199-59b0-479c-b6e4-abc25071a31e",
        "outputId": "60080556-0691-4c04-b5f0-4982d5fabebd"
      },
      "outputs": [
        {
          "name": "stdout",
          "output_type": "stream",
          "text": [
            "Значение правильности перекрестной проверки:\n",
            "[0. 0. 0.]\n"
          ]
        }
      ],
      "source": [
        "kfold = KFold(n_splits = 3)\n",
        "print(\"Значение правильности перекрестной проверки:\\n{}\".format(cross_val_score(logreg, iris.data, iris.target, cv = kfold)))"
      ]
    },
    {
      "cell_type": "code",
      "execution_count": null,
      "id": "494889cc-b1ce-4ebf-b2e6-530daf87ad23",
      "metadata": {
        "id": "494889cc-b1ce-4ebf-b2e6-530daf87ad23",
        "outputId": "eb667418-4f7d-4a73-988c-fbdf99cbe1aa"
      },
      "outputs": [
        {
          "name": "stdout",
          "output_type": "stream",
          "text": [
            "Значение правильности перекрестной проверки:\n",
            "[0.98 0.96 0.96]\n"
          ]
        }
      ],
      "source": [
        "kfold = KFold(n_splits = 3, shuffle = True, random_state = 0)\n",
        "print(\"Значение правильности перекрестной проверки:\\n{}\".format(cross_val_score(logreg, iris.data, iris.target, cv = kfold)))"
      ]
    },
    {
      "cell_type": "code",
      "execution_count": null,
      "id": "6bb31e81-52b7-4550-9ca6-c41850de7f7a",
      "metadata": {
        "id": "6bb31e81-52b7-4550-9ca6-c41850de7f7a",
        "outputId": "085798e2-90a6-4281-a345-9bee146510ad"
      },
      "outputs": [
        {
          "name": "stdout",
          "output_type": "stream",
          "text": [
            "Количество итерации:  150\n",
            "Средняя правильность: 0.966667\n"
          ]
        }
      ],
      "source": [
        "from sklearn.model_selection import LeaveOneOut\n",
        "\n",
        "loo = LeaveOneOut()\n",
        "scores = cross_val_score(logreg, iris.data, iris.target, cv = loo)\n",
        "print(\"Количество итерации: \", len(scores))\n",
        "print(\"Средняя правильность: {:2f}\".format(scores.mean()))"
      ]
    },
    {
      "cell_type": "code",
      "execution_count": null,
      "id": "b498faf2-bf52-46d2-874d-7a630175a632",
      "metadata": {
        "id": "b498faf2-bf52-46d2-874d-7a630175a632",
        "outputId": "3d2fcdc5-4f36-49e2-aa6f-b227fabcf4b2"
      },
      "outputs": [
        {
          "data": {
            "image/png": "[encoded data removed]",
            "text/plain": [
              "<Figure size 1000x200 with 1 Axes>"
            ]
          },
          "metadata": {},
          "output_type": "display_data"
        }
      ],
      "source": [
        "mglearn.plots.plot_shuffle_split()"
      ]
    },
    {
      "cell_type": "code",
      "execution_count": null,
      "id": "e7f11eeb-19f9-45f6-b9a6-d78e648a986d",
      "metadata": {
        "id": "e7f11eeb-19f9-45f6-b9a6-d78e648a986d",
        "outputId": "a42eb12f-6f8b-4183-939e-c1e7254ad562"
      },
      "outputs": [
        {
          "name": "stdout",
          "output_type": "stream",
          "text": [
            "Значение правильности перекрестной проверки: \n",
            "[0.94666667 0.94666667 0.97333333 0.98666667 0.96       0.92\n",
            " 0.97333333 0.93333333 0.96       0.90666667]\n"
          ]
        }
      ],
      "source": [
        "from sklearn.model_selection import ShuffleSplit\n",
        "shuffle_split = ShuffleSplit(test_size = .5, train_size = .5, n_splits = 10)\n",
        "scores = cross_val_score(logreg, iris.data, iris.target, cv = shuffle_split)\n",
        "print(\"Значение правильности перекрестной проверки: \\n{}\".format(scores))"
      ]
    },
    {
      "cell_type": "code",
      "execution_count": null,
      "id": "c6005551-1b65-46f5-ba3c-a60b9d5b04de",
      "metadata": {
        "id": "c6005551-1b65-46f5-ba3c-a60b9d5b04de",
        "outputId": "95f86a00-4951-4d2e-dc98-377548bc0017"
      },
      "outputs": [
        {
          "name": "stdout",
          "output_type": "stream",
          "text": [
            "Значения правильности перекрестной проверки: \n",
            "[0.75       0.6        0.66666667]\n"
          ]
        }
      ],
      "source": [
        "from sklearn.model_selection import GroupKFold\n",
        "from sklearn.datasets import make_blobs\n",
        "\n",
        "x,y = make_blobs(n_samples = 12, random_state = 0)\n",
        "\n",
        "groups = [0, 0, 0, 1, 1, 1 , 1, 2, 2, 3, 3, 3]\n",
        "scores = cross_val_score(logreg, x, y, groups = groups, scoring = None, cv = GroupKFold(n_splits = 3))\n",
        "print(\"Значения правильности перекрестной проверки: \\n{}\".format(scores))"
      ]
    },
    {
      "cell_type": "code",
      "execution_count": null,
      "id": "8fd08b7a-459a-4b49-a8dd-118d01547ac8",
      "metadata": {
        "id": "8fd08b7a-459a-4b49-a8dd-118d01547ac8",
        "outputId": "aa213062-c7ad-4df4-f15e-041fd3c2c4fb"
      },
      "outputs": [
        {
          "data": {
            "image/png": "[encoded data removed]",
            "text/plain": [
              "<Figure size 1000x200 with 1 Axes>"
            ]
          },
          "metadata": {},
          "output_type": "display_data"
        }
      ],
      "source": [
        "mglearn.plots.plot_group_kfold()"
      ]
    },
    {
      "cell_type": "code",
      "execution_count": null,
      "id": "9d36ca80-4fe7-414f-b341-ed963ea06a2e",
      "metadata": {
        "id": "9d36ca80-4fe7-414f-b341-ed963ea06a2e",
        "outputId": "542f01fc-5715-47ef-8952-fb29769e1c42"
      },
      "outputs": [
        {
          "name": "stdout",
          "output_type": "stream",
          "text": [
            "Размер обучающего набора: 112 размер тестового набора: 38\n",
            "Наилучшее значение правильности: 0.97\n",
            "Наилучшее значение параметров: {'C': 100, 'gamma': 0.001}\n"
          ]
        }
      ],
      "source": [
        "from sklearn.svm import SVC\n",
        "from sklearn.model_selection import train_test_split\n",
        "X_train, X_test, y_train, y_test = train_test_split(iris.data, iris.target, random_state = 0)\n",
        "print(\"Размер обучающего набора: {} размер тестового набора: {}\".format(X_train.shape[0], X_test.shape[0]))\n",
        "\n",
        "best_score = 0\n",
        "for gamma in [0.001, 0.01, 0.1, 1, 10, 100]:\n",
        "    for C in [0.001, 0.01, 0.1, 1, 10, 100]:\n",
        "        svm = SVC(gamma = gamma, C = C)\n",
        "        svm.fit(X_train, y_train)\n",
        "        score = svm.score(X_test, y_test)\n",
        "\n",
        "        if score > best_score:\n",
        "            best_score = score\n",
        "            best_parameters = {\"C\":C, \"gamma\": gamma}\n",
        "print(\"Наилучшее значение правильности: {:.2f}\".format(best_score))\n",
        "print(\"Наилучшее значение параметров: {}\".format(best_parameters))"
      ]
    },
    {
      "cell_type": "code",
      "execution_count": null,
      "id": "28cf6048-7f55-4d44-a4aa-43b4c6546af1",
      "metadata": {
        "id": "28cf6048-7f55-4d44-a4aa-43b4c6546af1",
        "outputId": "a27ad014-4994-4705-8286-7bd5a12ec1af"
      },
      "outputs": [
        {
          "data": {
            "image/png": "[encoded data removed]",
            "text/plain": [
              "<Figure size 1500x100 with 1 Axes>"
            ]
          },
          "metadata": {},
          "output_type": "display_data"
        }
      ],
      "source": [
        "mglearn.plots.plot_threefold_split()"
      ]
    },
    {
      "cell_type": "code",
      "execution_count": null,
      "id": "e4c8824a-a22b-4938-b13a-cfe293915dcf",
      "metadata": {
        "id": "e4c8824a-a22b-4938-b13a-cfe293915dcf",
        "outputId": "7d277df5-6831-49ad-d0c0-3e9a76edf599"
      },
      "outputs": [
        {
          "name": "stdout",
          "output_type": "stream",
          "text": [
            "Размер обучающего набора: 84 размер проверочного набора: 28 размер тестового набора: 38\n",
            "\n",
            "Лучшее значение правильности на проверочном наборе: 0.96\n",
            "Наилучшие значения параметров:  {'C': 10, 'gamma': 0.001}\n",
            "Правильность на тестовом наборе с наилучшими параметрами: 0.92\n"
          ]
        }
      ],
      "source": [
        "from sklearn.svm import SVC\n",
        "# разбиваем данные на обучающий+проверочный набор и тестовый набор\n",
        "X_trainval, X_test, y_trainval, y_test = train_test_split(iris.data, iris.target, random_state=0)\n",
        "# разбиваем обучающий+проверочный набор на обучающий и проверочный наборы\n",
        "X_train, X_valid, y_train, y_valid = train_test_split(X_trainval, y_trainval, random_state=1)\n",
        "print(\"Размер обучающего набора: {} размер проверочного набора: {} размер тестового набора:\" \" {}\\n\".format(X_train.shape[0], X_valid.shape[0], X_test.shape[0]))\n",
        "\n",
        "best_score = 0\n",
        "for gamma in [0.001, 0.01, 0.1, 1, 10, 100]:\n",
        "    for C in [0.001, 0.01, 0.1, 1, 10, 100]:\n",
        "        # для каждой комбинации параметров обучаем SVC\n",
        "        svm = SVC(gamma=gamma, C=C)\n",
        "        svm.fit(X_train, y_train)\n",
        "        # оцениваем качество SVC на тестовом наборе\n",
        "        score = svm.score(X_valid, y_valid)\n",
        "        # если получаем наилучшее значение правильности, сохраняем значение и параметры\n",
        "        if score > best_score:\n",
        "            best_score = score\n",
        "            best_parameters = {'C': C, 'gamma': gamma}\n",
        "# заново строим модель на наборе, полученном в результате объединения обучающих\n",
        "# и проверочных данных, оцениваем качество модели на тестовом наборе\n",
        "svm = SVC(**best_parameters)\n",
        "svm.fit(X_trainval, y_trainval)\n",
        "test_score = svm.score(X_test, y_test)\n",
        "print(\"Лучшее значение правильности на проверочном наборе: {:.2f}\".format(best_score))\n",
        "print(\"Наилучшие значения параметров: \", best_parameters)\n",
        "print(\"Правильность на тестовом наборе с наилучшими параметрами: {:.2f}\".format(test_score))\n"
      ]
    },
    {
      "cell_type": "code",
      "execution_count": null,
      "id": "514555ef-c5a7-4614-94da-d3a69194c533",
      "metadata": {
        "id": "514555ef-c5a7-4614-94da-d3a69194c533",
        "outputId": "41b85c5f-c741-45bf-a856-4702fbe07485"
      },
      "outputs": [
        {
          "data": {
            "text/html": [
              "<style>#sk-container-id-1 {color: black;}#sk-container-id-1 pre{padding: 0;}#sk-container-id-1 div.sk-toggleable {background-color: white;}#sk-container-id-1 label.sk-toggleable__label {cursor: pointer;display: block;width: 100%;margin-bottom: 0;padding: 0.3em;box-sizing: border-box;text-align: center;}#sk-container-id-1 label.sk-toggleable__label-arrow:before {content: \"▸\";float: left;margin-right: 0.25em;color: #696969;}#sk-container-id-1 label.sk-toggleable__label-arrow:hover:before {color: black;}#sk-container-id-1 div.sk-estimator:hover label.sk-toggleable__label-arrow:before {color: black;}#sk-container-id-1 div.sk-toggleable__content {max-height: 0;max-width: 0;overflow: hidden;text-align: left;background-color: #f0f8ff;}#sk-container-id-1 div.sk-toggleable__content pre {margin: 0.2em;color: black;border-radius: 0.25em;background-color: #f0f8ff;}#sk-container-id-1 input.sk-toggleable__control:checked~div.sk-toggleable__content {max-height: 200px;max-width: 100%;overflow: auto;}#sk-container-id-1 input.sk-toggleable__control:checked~label.sk-toggleable__label-arrow:before {content: \"▾\";}#sk-container-id-1 div.sk-estimator input.sk-toggleable__control:checked~label.sk-toggleable__label {background-color: #d4ebff;}#sk-container-id-1 div.sk-label input.sk-toggleable__control:checked~label.sk-toggleable__label {background-color: #d4ebff;}#sk-container-id-1 input.sk-hidden--visually {border: 0;clip: rect(1px 1px 1px 1px);clip: rect(1px, 1px, 1px, 1px);height: 1px;margin: -1px;overflow: hidden;padding: 0;position: absolute;width: 1px;}#sk-container-id-1 div.sk-estimator {font-family: monospace;background-color: #f0f8ff;border: 1px dotted black;border-radius: 0.25em;box-sizing: border-box;margin-bottom: 0.5em;}#sk-container-id-1 div.sk-estimator:hover {background-color: #d4ebff;}#sk-container-id-1 div.sk-parallel-item::after {content: \"\";width: 100%;border-bottom: 1px solid gray;flex-grow: 1;}#sk-container-id-1 div.sk-label:hover label.sk-toggleable__label {background-color: #d4ebff;}#sk-container-id-1 div.sk-serial::before {content: \"\";position: absolute;border-left: 1px solid gray;box-sizing: border-box;top: 0;bottom: 0;left: 50%;z-index: 0;}#sk-container-id-1 div.sk-serial {display: flex;flex-direction: column;align-items: center;background-color: white;padding-right: 0.2em;padding-left: 0.2em;position: relative;}#sk-container-id-1 div.sk-item {position: relative;z-index: 1;}#sk-container-id-1 div.sk-parallel {display: flex;align-items: stretch;justify-content: center;background-color: white;position: relative;}#sk-container-id-1 div.sk-item::before, #sk-container-id-1 div.sk-parallel-item::before {content: \"\";position: absolute;border-left: 1px solid gray;box-sizing: border-box;top: 0;bottom: 0;left: 50%;z-index: -1;}#sk-container-id-1 div.sk-parallel-item {display: flex;flex-direction: column;z-index: 1;position: relative;background-color: white;}#sk-container-id-1 div.sk-parallel-item:first-child::after {align-self: flex-end;width: 50%;}#sk-container-id-1 div.sk-parallel-item:last-child::after {align-self: flex-start;width: 50%;}#sk-container-id-1 div.sk-parallel-item:only-child::after {width: 0;}#sk-container-id-1 div.sk-dashed-wrapped {border: 1px dashed gray;margin: 0 0.4em 0.5em 0.4em;box-sizing: border-box;padding-bottom: 0.4em;background-color: white;}#sk-container-id-1 div.sk-label label {font-family: monospace;font-weight: bold;display: inline-block;line-height: 1.2em;}#sk-container-id-1 div.sk-label-container {text-align: center;}#sk-container-id-1 div.sk-container {/* jupyter's `normalize.less` sets `[hidden] { display: none; }` but bootstrap.min.css set `[hidden] { display: none !important; }` so we also need the `!important` here to be able to override the default hidden behavior on the sphinx rendered scikit-learn.org. See: https://github.com/scikit-learn/scikit-learn/issues/21755 */display: inline-block !important;position: relative;}#sk-container-id-1 div.sk-text-repr-fallback {display: none;}</style><div id=\"sk-container-id-1\" class=\"sk-top-container\"><div class=\"sk-text-repr-fallback\"><pre>SVC(C=10, gamma=0.1)</pre><b>In a Jupyter environment, please rerun this cell to show the HTML representation or trust the notebook. <br />On GitHub, the HTML representation is unable to render, please try loading this page with nbviewer.org.</b></div><div class=\"sk-container\" hidden><div class=\"sk-item\"><div class=\"sk-estimator sk-toggleable\"><input class=\"sk-toggleable__control sk-hidden--visually\" id=\"sk-estimator-id-1\" type=\"checkbox\" checked><label for=\"sk-estimator-id-1\" class=\"sk-toggleable__label sk-toggleable__label-arrow\">SVC</label><div class=\"sk-toggleable__content\"><pre>SVC(C=10, gamma=0.1)</pre></div></div></div></div></div>"
            ],
            "text/plain": [
              "SVC(C=10, gamma=0.1)"
            ]
          },
          "execution_count": 19,
          "metadata": {},
          "output_type": "execute_result"
        }
      ],
      "source": [
        "import numpy as np\n",
        "for gamma in [0.001, 0.01, 0.1, 1, 10, 100]:\n",
        "    for C in [0.001, 0.01, 0.1, 1, 10, 100]:\n",
        "        svm = SVC(gamma = gamma, C = C)\n",
        "        scores = cross_val_score(svm, X_trainval, y_trainval, cv = 5)\n",
        "        score = np.mean(scores)\n",
        "\n",
        "        if score > best_score:\n",
        "            best_score = score\n",
        "            best_parameters = {\"C\": C, \"gamma\": gamma}\n",
        "\n",
        "svm = SVC(**best_parameters)\n",
        "svm.fit(X_trainval, y_trainval)"
      ]
    },
    {
      "cell_type": "code",
      "execution_count": null,
      "id": "e594e523-328f-4657-bbb0-033332fc15b2",
      "metadata": {
        "id": "e594e523-328f-4657-bbb0-033332fc15b2",
        "outputId": "70c94a06-3157-44f0-a874-18d5d1c0bc68"
      },
      "outputs": [
        {
          "data": {
            "image/png": "[encoded data removed]",
            "text/plain": [
              "<Figure size 1000x300 with 1 Axes>"
            ]
          },
          "metadata": {},
          "output_type": "display_data"
        }
      ],
      "source": [
        "mglearn.plots.plot_cross_val_selection()"
      ]
    },
    {
      "cell_type": "code",
      "execution_count": null,
      "id": "4b7efc19-6907-4fb8-a3e6-b5a1b8784f16",
      "metadata": {
        "id": "4b7efc19-6907-4fb8-a3e6-b5a1b8784f16",
        "outputId": "fc0f9664-a78b-4c8b-d3e6-c792bd936cb7"
      },
      "outputs": [
        {
          "data": {
            "image/png": "[encoded data removed]",
            "text/plain": [
              "<Figure size 700x210 with 1 Axes>"
            ]
          },
          "metadata": {},
          "output_type": "display_data"
        }
      ],
      "source": [
        "mglearn.plots.plot_grid_search_overview()"
      ]
    },
    {
      "cell_type": "code",
      "execution_count": null,
      "id": "f63d35b0-3e0f-4749-ba67-7aca7759ebe4",
      "metadata": {
        "id": "f63d35b0-3e0f-4749-ba67-7aca7759ebe4",
        "outputId": "7b13f399-ae19-4d22-ac3a-efea141e88cb"
      },
      "outputs": [
        {
          "name": "stdout",
          "output_type": "stream",
          "text": [
            "Сетка параметров: \n",
            "{'C': [0.001, 0.01, 0.1, 1, 10, 100], 'gamma': [0.001, 0.01, 0.1, 1, 10, 100]}\n"
          ]
        }
      ],
      "source": [
        "param_grid = {\"C\": [0.001, 0.01, 0.1, 1, 10, 100],\n",
        "             \"gamma\": [0.001, 0.01, 0.1, 1, 10, 100]}\n",
        "print(\"Сетка параметров: \\n{}\".format(param_grid))"
      ]
    },
    {
      "cell_type": "code",
      "execution_count": null,
      "id": "ff1dd671-059e-49da-b1ea-24d3b6b29958",
      "metadata": {
        "id": "ff1dd671-059e-49da-b1ea-24d3b6b29958"
      },
      "outputs": [],
      "source": [
        "from sklearn.model_selection import GridSearchCV\n",
        "from sklearn.svm import SVC\n",
        "grid_search = GridSearchCV(SVC(), param_grid, cv = 5)"
      ]
    },
    {
      "cell_type": "code",
      "execution_count": null,
      "id": "64d4e957-010e-4fae-bcfe-612342362dc9",
      "metadata": {
        "id": "64d4e957-010e-4fae-bcfe-612342362dc9"
      },
      "outputs": [],
      "source": [
        "X_train, X_test, y_train, y_test = train_test_split(iris.data, iris.target, random_state = 0)"
      ]
    },
    {
      "cell_type": "code",
      "execution_count": null,
      "id": "b63b2473-ff1a-4b27-a148-38071773d9b3",
      "metadata": {
        "id": "b63b2473-ff1a-4b27-a148-38071773d9b3",
        "outputId": "5cae1eeb-610f-4788-8167-051a7df7e635"
      },
      "outputs": [
        {
          "data": {
            "text/html": [
              "<style>#sk-container-id-2 {color: black;}#sk-container-id-2 pre{padding: 0;}#sk-container-id-2 div.sk-toggleable {background-color: white;}#sk-container-id-2 label.sk-toggleable__label {cursor: pointer;display: block;width: 100%;margin-bottom: 0;padding: 0.3em;box-sizing: border-box;text-align: center;}#sk-container-id-2 label.sk-toggleable__label-arrow:before {content: \"▸\";float: left;margin-right: 0.25em;color: #696969;}#sk-container-id-2 label.sk-toggleable__label-arrow:hover:before {color: black;}#sk-container-id-2 div.sk-estimator:hover label.sk-toggleable__label-arrow:before {color: black;}#sk-container-id-2 div.sk-toggleable__content {max-height: 0;max-width: 0;overflow: hidden;text-align: left;background-color: #f0f8ff;}#sk-container-id-2 div.sk-toggleable__content pre {margin: 0.2em;color: black;border-radius: 0.25em;background-color: #f0f8ff;}#sk-container-id-2 input.sk-toggleable__control:checked~div.sk-toggleable__content {max-height: 200px;max-width: 100%;overflow: auto;}#sk-container-id-2 input.sk-toggleable__control:checked~label.sk-toggleable__label-arrow:before {content: \"▾\";}#sk-container-id-2 div.sk-estimator input.sk-toggleable__control:checked~label.sk-toggleable__label {background-color: #d4ebff;}#sk-container-id-2 div.sk-label input.sk-toggleable__control:checked~label.sk-toggleable__label {background-color: #d4ebff;}#sk-container-id-2 input.sk-hidden--visually {border: 0;clip: rect(1px 1px 1px 1px);clip: rect(1px, 1px, 1px, 1px);height: 1px;margin: -1px;overflow: hidden;padding: 0;position: absolute;width: 1px;}#sk-container-id-2 div.sk-estimator {font-family: monospace;background-color: #f0f8ff;border: 1px dotted black;border-radius: 0.25em;box-sizing: border-box;margin-bottom: 0.5em;}#sk-container-id-2 div.sk-estimator:hover {background-color: #d4ebff;}#sk-container-id-2 div.sk-parallel-item::after {content: \"\";width: 100%;border-bottom: 1px solid gray;flex-grow: 1;}#sk-container-id-2 div.sk-label:hover label.sk-toggleable__label {background-color: #d4ebff;}#sk-container-id-2 div.sk-serial::before {content: \"\";position: absolute;border-left: 1px solid gray;box-sizing: border-box;top: 0;bottom: 0;left: 50%;z-index: 0;}#sk-container-id-2 div.sk-serial {display: flex;flex-direction: column;align-items: center;background-color: white;padding-right: 0.2em;padding-left: 0.2em;position: relative;}#sk-container-id-2 div.sk-item {position: relative;z-index: 1;}#sk-container-id-2 div.sk-parallel {display: flex;align-items: stretch;justify-content: center;background-color: white;position: relative;}#sk-container-id-2 div.sk-item::before, #sk-container-id-2 div.sk-parallel-item::before {content: \"\";position: absolute;border-left: 1px solid gray;box-sizing: border-box;top: 0;bottom: 0;left: 50%;z-index: -1;}#sk-container-id-2 div.sk-parallel-item {display: flex;flex-direction: column;z-index: 1;position: relative;background-color: white;}#sk-container-id-2 div.sk-parallel-item:first-child::after {align-self: flex-end;width: 50%;}#sk-container-id-2 div.sk-parallel-item:last-child::after {align-self: flex-start;width: 50%;}#sk-container-id-2 div.sk-parallel-item:only-child::after {width: 0;}#sk-container-id-2 div.sk-dashed-wrapped {border: 1px dashed gray;margin: 0 0.4em 0.5em 0.4em;box-sizing: border-box;padding-bottom: 0.4em;background-color: white;}#sk-container-id-2 div.sk-label label {font-family: monospace;font-weight: bold;display: inline-block;line-height: 1.2em;}#sk-container-id-2 div.sk-label-container {text-align: center;}#sk-container-id-2 div.sk-container {/* jupyter's `normalize.less` sets `[hidden] { display: none; }` but bootstrap.min.css set `[hidden] { display: none !important; }` so we also need the `!important` here to be able to override the default hidden behavior on the sphinx rendered scikit-learn.org. See: https://github.com/scikit-learn/scikit-learn/issues/21755 */display: inline-block !important;position: relative;}#sk-container-id-2 div.sk-text-repr-fallback {display: none;}</style><div id=\"sk-container-id-2\" class=\"sk-top-container\"><div class=\"sk-text-repr-fallback\"><pre>GridSearchCV(cv=5, estimator=SVC(),\n",
              "             param_grid={&#x27;C&#x27;: [0.001, 0.01, 0.1, 1, 10, 100],\n",
              "                         &#x27;gamma&#x27;: [0.001, 0.01, 0.1, 1, 10, 100]})</pre><b>In a Jupyter environment, please rerun this cell to show the HTML representation or trust the notebook. <br />On GitHub, the HTML representation is unable to render, please try loading this page with nbviewer.org.</b></div><div class=\"sk-container\" hidden><div class=\"sk-item sk-dashed-wrapped\"><div class=\"sk-label-container\"><div class=\"sk-label sk-toggleable\"><input class=\"sk-toggleable__control sk-hidden--visually\" id=\"sk-estimator-id-2\" type=\"checkbox\" ><label for=\"sk-estimator-id-2\" class=\"sk-toggleable__label sk-toggleable__label-arrow\">GridSearchCV</label><div class=\"sk-toggleable__content\"><pre>GridSearchCV(cv=5, estimator=SVC(),\n",
              "             param_grid={&#x27;C&#x27;: [0.001, 0.01, 0.1, 1, 10, 100],\n",
              "                         &#x27;gamma&#x27;: [0.001, 0.01, 0.1, 1, 10, 100]})</pre></div></div></div><div class=\"sk-parallel\"><div class=\"sk-parallel-item\"><div class=\"sk-item\"><div class=\"sk-label-container\"><div class=\"sk-label sk-toggleable\"><input class=\"sk-toggleable__control sk-hidden--visually\" id=\"sk-estimator-id-3\" type=\"checkbox\" ><label for=\"sk-estimator-id-3\" class=\"sk-toggleable__label sk-toggleable__label-arrow\">estimator: SVC</label><div class=\"sk-toggleable__content\"><pre>SVC()</pre></div></div></div><div class=\"sk-serial\"><div class=\"sk-item\"><div class=\"sk-estimator sk-toggleable\"><input class=\"sk-toggleable__control sk-hidden--visually\" id=\"sk-estimator-id-4\" type=\"checkbox\" ><label for=\"sk-estimator-id-4\" class=\"sk-toggleable__label sk-toggleable__label-arrow\">SVC</label><div class=\"sk-toggleable__content\"><pre>SVC()</pre></div></div></div></div></div></div></div></div></div></div>"
            ],
            "text/plain": [
              "GridSearchCV(cv=5, estimator=SVC(),\n",
              "             param_grid={'C': [0.001, 0.01, 0.1, 1, 10, 100],\n",
              "                         'gamma': [0.001, 0.01, 0.1, 1, 10, 100]})"
            ]
          },
          "execution_count": 25,
          "metadata": {},
          "output_type": "execute_result"
        }
      ],
      "source": [
        "grid_search.fit(X_train, y_train)"
      ]
    },
    {
      "cell_type": "code",
      "execution_count": null,
      "id": "65f51aca-d06c-4ff3-87f4-f3d6059bc6f4",
      "metadata": {
        "id": "65f51aca-d06c-4ff3-87f4-f3d6059bc6f4",
        "outputId": "e6d5ea86-8b93-495b-a2ad-9efb89e28385"
      },
      "outputs": [
        {
          "name": "stdout",
          "output_type": "stream",
          "text": [
            "Правильность на тестовом наборе: 0.97\n"
          ]
        }
      ],
      "source": [
        "print(\"Правильность на тестовом наборе: {:.2f}\".format(grid_search.score(X_test, y_test)))"
      ]
    },
    {
      "cell_type": "code",
      "execution_count": null,
      "id": "33c425af-d24a-4ae4-a5c3-a955e8712223",
      "metadata": {
        "id": "33c425af-d24a-4ae4-a5c3-a955e8712223",
        "outputId": "2440d710-b934-460f-c5ac-28001619ea00"
      },
      "outputs": [
        {
          "name": "stdout",
          "output_type": "stream",
          "text": [
            "Наилучшие значения параметров: {'C': 10, 'gamma': 0.1}\n",
            "Наилучшее значение кросс_валидац. правильности: 0.97\n"
          ]
        }
      ],
      "source": [
        "print(\"Наилучшие значения параметров: {}\".format(grid_search.best_params_))\n",
        "print(\"Наилучшее значение кросс_валидац. правильности: {:.2f}\".format(grid_search.best_score_))\n"
      ]
    },
    {
      "cell_type": "code",
      "execution_count": null,
      "id": "5a22ef31-6977-417f-aff5-e1d2e4a93ef7",
      "metadata": {
        "id": "5a22ef31-6977-417f-aff5-e1d2e4a93ef7",
        "outputId": "8b96e2ba-2903-4d99-aa83-b301869cdf2b"
      },
      "outputs": [
        {
          "name": "stdout",
          "output_type": "stream",
          "text": [
            "Наилучшая модель:\n",
            "SVC(C=10, gamma=0.1)\n"
          ]
        }
      ],
      "source": [
        "print(\"Наилучшая модель:\\n{}\".format(grid_search.best_estimator_))"
      ]
    },
    {
      "cell_type": "code",
      "execution_count": null,
      "id": "97a9b78e-f792-4b28-b160-7dc230d59f69",
      "metadata": {
        "id": "97a9b78e-f792-4b28-b160-7dc230d59f69",
        "outputId": "a92039d7-e614-4471-d13b-70ccc2082a3f"
      },
      "outputs": [
        {
          "data": {
            "text/html": [
              "<div>\n",
              "<style scoped>\n",
              "    .dataframe tbody tr th:only-of-type {\n",
              "        vertical-align: middle;\n",
              "    }\n",
              "\n",
              "    .dataframe tbody tr th {\n",
              "        vertical-align: top;\n",
              "    }\n",
              "\n",
              "    .dataframe thead th {\n",
              "        text-align: right;\n",
              "    }\n",
              "</style>\n",
              "<table border=\"1\" class=\"dataframe\">\n",
              "  <thead>\n",
              "    <tr style=\"text-align: right;\">\n",
              "      <th></th>\n",
              "      <th>mean_fit_time</th>\n",
              "      <th>std_fit_time</th>\n",
              "      <th>mean_score_time</th>\n",
              "      <th>std_score_time</th>\n",
              "      <th>param_C</th>\n",
              "      <th>param_gamma</th>\n",
              "      <th>params</th>\n",
              "      <th>split0_test_score</th>\n",
              "      <th>split1_test_score</th>\n",
              "      <th>split2_test_score</th>\n",
              "      <th>split3_test_score</th>\n",
              "      <th>split4_test_score</th>\n",
              "      <th>mean_test_score</th>\n",
              "      <th>std_test_score</th>\n",
              "      <th>rank_test_score</th>\n",
              "    </tr>\n",
              "  </thead>\n",
              "  <tbody>\n",
              "    <tr>\n",
              "      <th>0</th>\n",
              "      <td>0.003136</td>\n",
              "      <td>0.003095</td>\n",
              "      <td>0.004800</td>\n",
              "      <td>0.009599</td>\n",
              "      <td>0.001</td>\n",
              "      <td>0.001</td>\n",
              "      <td>{'C': 0.001, 'gamma': 0.001}</td>\n",
              "      <td>0.347826</td>\n",
              "      <td>0.347826</td>\n",
              "      <td>0.363636</td>\n",
              "      <td>0.363636</td>\n",
              "      <td>0.409091</td>\n",
              "      <td>0.366403</td>\n",
              "      <td>0.022485</td>\n",
              "      <td>22</td>\n",
              "    </tr>\n",
              "    <tr>\n",
              "      <th>1</th>\n",
              "      <td>0.002110</td>\n",
              "      <td>0.003106</td>\n",
              "      <td>0.003201</td>\n",
              "      <td>0.003920</td>\n",
              "      <td>0.001</td>\n",
              "      <td>0.01</td>\n",
              "      <td>{'C': 0.001, 'gamma': 0.01}</td>\n",
              "      <td>0.347826</td>\n",
              "      <td>0.347826</td>\n",
              "      <td>0.363636</td>\n",
              "      <td>0.363636</td>\n",
              "      <td>0.409091</td>\n",
              "      <td>0.366403</td>\n",
              "      <td>0.022485</td>\n",
              "      <td>22</td>\n",
              "    </tr>\n",
              "    <tr>\n",
              "      <th>2</th>\n",
              "      <td>0.000000</td>\n",
              "      <td>0.000000</td>\n",
              "      <td>0.001617</td>\n",
              "      <td>0.003234</td>\n",
              "      <td>0.001</td>\n",
              "      <td>0.1</td>\n",
              "      <td>{'C': 0.001, 'gamma': 0.1}</td>\n",
              "      <td>0.347826</td>\n",
              "      <td>0.347826</td>\n",
              "      <td>0.363636</td>\n",
              "      <td>0.363636</td>\n",
              "      <td>0.409091</td>\n",
              "      <td>0.366403</td>\n",
              "      <td>0.022485</td>\n",
              "      <td>22</td>\n",
              "    </tr>\n",
              "    <tr>\n",
              "      <th>3</th>\n",
              "      <td>0.006248</td>\n",
              "      <td>0.007653</td>\n",
              "      <td>0.000000</td>\n",
              "      <td>0.000000</td>\n",
              "      <td>0.001</td>\n",
              "      <td>1</td>\n",
              "      <td>{'C': 0.001, 'gamma': 1}</td>\n",
              "      <td>0.347826</td>\n",
              "      <td>0.347826</td>\n",
              "      <td>0.363636</td>\n",
              "      <td>0.363636</td>\n",
              "      <td>0.409091</td>\n",
              "      <td>0.366403</td>\n",
              "      <td>0.022485</td>\n",
              "      <td>22</td>\n",
              "    </tr>\n",
              "    <tr>\n",
              "      <th>4</th>\n",
              "      <td>0.000917</td>\n",
              "      <td>0.001835</td>\n",
              "      <td>0.006426</td>\n",
              "      <td>0.007875</td>\n",
              "      <td>0.001</td>\n",
              "      <td>10</td>\n",
              "      <td>{'C': 0.001, 'gamma': 10}</td>\n",
              "      <td>0.347826</td>\n",
              "      <td>0.347826</td>\n",
              "      <td>0.363636</td>\n",
              "      <td>0.363636</td>\n",
              "      <td>0.409091</td>\n",
              "      <td>0.366403</td>\n",
              "      <td>0.022485</td>\n",
              "      <td>22</td>\n",
              "    </tr>\n",
              "  </tbody>\n",
              "</table>\n",
              "</div>"
            ],
            "text/plain": [
              "   mean_fit_time  std_fit_time  mean_score_time  std_score_time param_C  \\\n",
              "0       0.003136      0.003095         0.004800        0.009599   0.001   \n",
              "1       0.002110      0.003106         0.003201        0.003920   0.001   \n",
              "2       0.000000      0.000000         0.001617        0.003234   0.001   \n",
              "3       0.006248      0.007653         0.000000        0.000000   0.001   \n",
              "4       0.000917      0.001835         0.006426        0.007875   0.001   \n",
              "\n",
              "  param_gamma                        params  split0_test_score  \\\n",
              "0       0.001  {'C': 0.001, 'gamma': 0.001}           0.347826   \n",
              "1        0.01   {'C': 0.001, 'gamma': 0.01}           0.347826   \n",
              "2         0.1    {'C': 0.001, 'gamma': 0.1}           0.347826   \n",
              "3           1      {'C': 0.001, 'gamma': 1}           0.347826   \n",
              "4          10     {'C': 0.001, 'gamma': 10}           0.347826   \n",
              "\n",
              "   split1_test_score  split2_test_score  split3_test_score  split4_test_score  \\\n",
              "0           0.347826           0.363636           0.363636           0.409091   \n",
              "1           0.347826           0.363636           0.363636           0.409091   \n",
              "2           0.347826           0.363636           0.363636           0.409091   \n",
              "3           0.347826           0.363636           0.363636           0.409091   \n",
              "4           0.347826           0.363636           0.363636           0.409091   \n",
              "\n",
              "   mean_test_score  std_test_score  rank_test_score  \n",
              "0         0.366403        0.022485               22  \n",
              "1         0.366403        0.022485               22  \n",
              "2         0.366403        0.022485               22  \n",
              "3         0.366403        0.022485               22  \n",
              "4         0.366403        0.022485               22  "
            ]
          },
          "metadata": {},
          "output_type": "display_data"
        }
      ],
      "source": [
        "import pandas as pd\n",
        "\n",
        "results = pd.DataFrame(grid_search.cv_results_)\n",
        "display(results.head())"
      ]
    },
    {
      "cell_type": "code",
      "execution_count": null,
      "id": "1967692c-46ea-4ebf-99d9-eda3a841cce1",
      "metadata": {
        "id": "1967692c-46ea-4ebf-99d9-eda3a841cce1",
        "outputId": "f8452a9b-79bc-4f84-846e-99fbe92cac04"
      },
      "outputs": [
        {
          "data": {
            "image/png": "[encoded data removed]",
            "text/plain": [
              "<Figure size 640x480 with 2 Axes>"
            ]
          },
          "metadata": {},
          "output_type": "display_data"
        }
      ],
      "source": [
        "import seaborn as sns\n",
        "import matplotlib.pyplot as plt\n",
        "\n",
        "scores = np.array(results.mean_test_score).reshape(6,6)\n",
        "\n",
        "ax = sns.heatmap(scores, annot = True, xticklabels = param_grid['gamma'], yticklabels = param_grid['C'], cmap = 'hsv')\n",
        "ax.set(xlabel = 'gamma', ylabel = 'C')\n",
        "ax.xaxis.tick_top()\n",
        "\n",
        "plt.show()"
      ]
    },
    {
      "cell_type": "code",
      "execution_count": null,
      "id": "4bce4156-2a99-4af4-b8c1-d43e0073853f",
      "metadata": {
        "id": "4bce4156-2a99-4af4-b8c1-d43e0073853f",
        "outputId": "979d9f9e-a6a8-4cb9-99b1-691f77b4f1c9"
      },
      "outputs": [
        {
          "name": "stdout",
          "output_type": "stream",
          "text": [
            "List of grids:\n",
            "[{'kernel': ['rbf'], 'C': [0.001, 0.01, 0.1, 1, 10, 100], 'gamma': [0.001, 0.01, 0.1, 1, 10, 100]}, {'kernel': ['linear'], 'C': [0.001, 0.01, 0.1, 1, 10, 100]}]\n"
          ]
        }
      ],
      "source": [
        "param_grid = [{'kernel' : ['rbf'],\n",
        "               'C' : [0.001,0.01,0.1,1,10,100],\n",
        "               'gamma' : [0.001, 0.01, 0.1, 1, 10, 100]},\n",
        "             {'kernel' : ['linear'],\n",
        "             'C' : [0.001, 0.01, 0.1, 1, 10, 100]}]\n",
        "print('List of grids:\\n{}'.format(param_grid))"
      ]
    },
    {
      "cell_type": "code",
      "execution_count": null,
      "id": "e9f1badf-1a63-4439-9d90-282a2c1688a8",
      "metadata": {
        "id": "e9f1badf-1a63-4439-9d90-282a2c1688a8",
        "outputId": "6023c101-7720-41aa-c7d8-2c59175f6bc9"
      },
      "outputs": [
        {
          "name": "stdout",
          "output_type": "stream",
          "text": [
            "Наилучшее значение параметров {'C': 10, 'gamma': 0.1, 'kernel': 'rbf'}\n",
            "Наилучшее значение кросс - валидац. правильности 0.97\n"
          ]
        }
      ],
      "source": [
        "grid_search = GridSearchCV(SVC(), param_grid, cv = 5)\n",
        "grid_search.fit(X_train, y_train)\n",
        "print(\"Наилучшее значение параметров {}\".format(grid_search.best_params_))\n",
        "print(\"Наилучшее значение кросс - валидац. правильности {:.2f}\".format(grid_search.best_score_))"
      ]
    },
    {
      "cell_type": "code",
      "execution_count": null,
      "id": "f6ee64fd-039f-4ad9-9ed1-df655327e6d8",
      "metadata": {
        "id": "f6ee64fd-039f-4ad9-9ed1-df655327e6d8"
      },
      "outputs": [],
      "source": [
        "results = pd.DataFrame(grid_search.cv_results_)"
      ]
    },
    {
      "cell_type": "code",
      "execution_count": null,
      "id": "0d6d9223-bc8a-4760-8bc5-e3f46a8efd9f",
      "metadata": {
        "scrolled": true,
        "id": "0d6d9223-bc8a-4760-8bc5-e3f46a8efd9f",
        "outputId": "9b575070-29d5-4662-dc01-c32820268b00"
      },
      "outputs": [
        {
          "data": {
            "text/html": [
              "<div>\n",
              "<style scoped>\n",
              "    .dataframe tbody tr th:only-of-type {\n",
              "        vertical-align: middle;\n",
              "    }\n",
              "\n",
              "    .dataframe tbody tr th {\n",
              "        vertical-align: top;\n",
              "    }\n",
              "\n",
              "    .dataframe thead th {\n",
              "        text-align: right;\n",
              "    }\n",
              "</style>\n",
              "<table border=\"1\" class=\"dataframe\">\n",
              "  <thead>\n",
              "    <tr style=\"text-align: right;\">\n",
              "      <th></th>\n",
              "      <th>mean_fit_time</th>\n",
              "      <th>std_fit_time</th>\n",
              "      <th>mean_score_time</th>\n",
              "      <th>std_score_time</th>\n",
              "      <th>param_C</th>\n",
              "      <th>param_gamma</th>\n",
              "      <th>param_kernel</th>\n",
              "      <th>params</th>\n",
              "      <th>split0_test_score</th>\n",
              "      <th>split1_test_score</th>\n",
              "      <th>split2_test_score</th>\n",
              "      <th>split3_test_score</th>\n",
              "      <th>split4_test_score</th>\n",
              "      <th>mean_test_score</th>\n",
              "      <th>std_test_score</th>\n",
              "      <th>rank_test_score</th>\n",
              "    </tr>\n",
              "  </thead>\n",
              "  <tbody>\n",
              "    <tr>\n",
              "      <th>0</th>\n",
              "      <td>0.006028</td>\n",
              "      <td>0.003065</td>\n",
              "      <td>0.002554</td>\n",
              "      <td>0.003292</td>\n",
              "      <td>0.001</td>\n",
              "      <td>0.001</td>\n",
              "      <td>rbf</td>\n",
              "      <td>{'C': 0.001, 'gamma': 0.001, 'kernel': 'rbf'}</td>\n",
              "      <td>0.347826</td>\n",
              "      <td>0.347826</td>\n",
              "      <td>0.363636</td>\n",
              "      <td>0.363636</td>\n",
              "      <td>0.409091</td>\n",
              "      <td>0.366403</td>\n",
              "      <td>0.022485</td>\n",
              "      <td>27</td>\n",
              "    </tr>\n",
              "    <tr>\n",
              "      <th>1</th>\n",
              "      <td>0.001601</td>\n",
              "      <td>0.003202</td>\n",
              "      <td>0.002411</td>\n",
              "      <td>0.003206</td>\n",
              "      <td>0.001</td>\n",
              "      <td>0.01</td>\n",
              "      <td>rbf</td>\n",
              "      <td>{'C': 0.001, 'gamma': 0.01, 'kernel': 'rbf'}</td>\n",
              "      <td>0.347826</td>\n",
              "      <td>0.347826</td>\n",
              "      <td>0.363636</td>\n",
              "      <td>0.363636</td>\n",
              "      <td>0.409091</td>\n",
              "      <td>0.366403</td>\n",
              "      <td>0.022485</td>\n",
              "      <td>27</td>\n",
              "    </tr>\n",
              "    <tr>\n",
              "      <th>2</th>\n",
              "      <td>0.000000</td>\n",
              "      <td>0.000000</td>\n",
              "      <td>0.003472</td>\n",
              "      <td>0.004273</td>\n",
              "      <td>0.001</td>\n",
              "      <td>0.1</td>\n",
              "      <td>rbf</td>\n",
              "      <td>{'C': 0.001, 'gamma': 0.1, 'kernel': 'rbf'}</td>\n",
              "      <td>0.347826</td>\n",
              "      <td>0.347826</td>\n",
              "      <td>0.363636</td>\n",
              "      <td>0.363636</td>\n",
              "      <td>0.409091</td>\n",
              "      <td>0.366403</td>\n",
              "      <td>0.022485</td>\n",
              "      <td>27</td>\n",
              "    </tr>\n",
              "    <tr>\n",
              "      <th>3</th>\n",
              "      <td>0.001606</td>\n",
              "      <td>0.003212</td>\n",
              "      <td>0.000000</td>\n",
              "      <td>0.000000</td>\n",
              "      <td>0.001</td>\n",
              "      <td>1</td>\n",
              "      <td>rbf</td>\n",
              "      <td>{'C': 0.001, 'gamma': 1, 'kernel': 'rbf'}</td>\n",
              "      <td>0.347826</td>\n",
              "      <td>0.347826</td>\n",
              "      <td>0.363636</td>\n",
              "      <td>0.363636</td>\n",
              "      <td>0.409091</td>\n",
              "      <td>0.366403</td>\n",
              "      <td>0.022485</td>\n",
              "      <td>27</td>\n",
              "    </tr>\n",
              "    <tr>\n",
              "      <th>4</th>\n",
              "      <td>0.000000</td>\n",
              "      <td>0.000000</td>\n",
              "      <td>0.003132</td>\n",
              "      <td>0.006264</td>\n",
              "      <td>0.001</td>\n",
              "      <td>10</td>\n",
              "      <td>rbf</td>\n",
              "      <td>{'C': 0.001, 'gamma': 10, 'kernel': 'rbf'}</td>\n",
              "      <td>0.347826</td>\n",
              "      <td>0.347826</td>\n",
              "      <td>0.363636</td>\n",
              "      <td>0.363636</td>\n",
              "      <td>0.409091</td>\n",
              "      <td>0.366403</td>\n",
              "      <td>0.022485</td>\n",
              "      <td>27</td>\n",
              "    </tr>\n",
              "    <tr>\n",
              "      <th>5</th>\n",
              "      <td>0.000000</td>\n",
              "      <td>0.000000</td>\n",
              "      <td>0.003124</td>\n",
              "      <td>0.006248</td>\n",
              "      <td>0.001</td>\n",
              "      <td>100</td>\n",
              "      <td>rbf</td>\n",
              "      <td>{'C': 0.001, 'gamma': 100, 'kernel': 'rbf'}</td>\n",
              "      <td>0.347826</td>\n",
              "      <td>0.347826</td>\n",
              "      <td>0.363636</td>\n",
              "      <td>0.363636</td>\n",
              "      <td>0.409091</td>\n",
              "      <td>0.366403</td>\n",
              "      <td>0.022485</td>\n",
              "      <td>27</td>\n",
              "    </tr>\n",
              "    <tr>\n",
              "      <th>6</th>\n",
              "      <td>0.003124</td>\n",
              "      <td>0.006248</td>\n",
              "      <td>0.000000</td>\n",
              "      <td>0.000000</td>\n",
              "      <td>0.01</td>\n",
              "      <td>0.001</td>\n",
              "      <td>rbf</td>\n",
              "      <td>{'C': 0.01, 'gamma': 0.001, 'kernel': 'rbf'}</td>\n",
              "      <td>0.347826</td>\n",
              "      <td>0.347826</td>\n",
              "      <td>0.363636</td>\n",
              "      <td>0.363636</td>\n",
              "      <td>0.409091</td>\n",
              "      <td>0.366403</td>\n",
              "      <td>0.022485</td>\n",
              "      <td>27</td>\n",
              "    </tr>\n",
              "    <tr>\n",
              "      <th>7</th>\n",
              "      <td>0.000000</td>\n",
              "      <td>0.000000</td>\n",
              "      <td>0.000000</td>\n",
              "      <td>0.000000</td>\n",
              "      <td>0.01</td>\n",
              "      <td>0.01</td>\n",
              "      <td>rbf</td>\n",
              "      <td>{'C': 0.01, 'gamma': 0.01, 'kernel': 'rbf'}</td>\n",
              "      <td>0.347826</td>\n",
              "      <td>0.347826</td>\n",
              "      <td>0.363636</td>\n",
              "      <td>0.363636</td>\n",
              "      <td>0.409091</td>\n",
              "      <td>0.366403</td>\n",
              "      <td>0.022485</td>\n",
              "      <td>27</td>\n",
              "    </tr>\n",
              "    <tr>\n",
              "      <th>8</th>\n",
              "      <td>0.003124</td>\n",
              "      <td>0.006248</td>\n",
              "      <td>0.000000</td>\n",
              "      <td>0.000000</td>\n",
              "      <td>0.01</td>\n",
              "      <td>0.1</td>\n",
              "      <td>rbf</td>\n",
              "      <td>{'C': 0.01, 'gamma': 0.1, 'kernel': 'rbf'}</td>\n",
              "      <td>0.347826</td>\n",
              "      <td>0.347826</td>\n",
              "      <td>0.363636</td>\n",
              "      <td>0.363636</td>\n",
              "      <td>0.409091</td>\n",
              "      <td>0.366403</td>\n",
              "      <td>0.022485</td>\n",
              "      <td>27</td>\n",
              "    </tr>\n",
              "    <tr>\n",
              "      <th>9</th>\n",
              "      <td>0.006245</td>\n",
              "      <td>0.005845</td>\n",
              "      <td>0.000000</td>\n",
              "      <td>0.000000</td>\n",
              "      <td>0.01</td>\n",
              "      <td>1</td>\n",
              "      <td>rbf</td>\n",
              "      <td>{'C': 0.01, 'gamma': 1, 'kernel': 'rbf'}</td>\n",
              "      <td>0.347826</td>\n",
              "      <td>0.347826</td>\n",
              "      <td>0.363636</td>\n",
              "      <td>0.363636</td>\n",
              "      <td>0.409091</td>\n",
              "      <td>0.366403</td>\n",
              "      <td>0.022485</td>\n",
              "      <td>27</td>\n",
              "    </tr>\n",
              "    <tr>\n",
              "      <th>10</th>\n",
              "      <td>0.000000</td>\n",
              "      <td>0.000000</td>\n",
              "      <td>0.005007</td>\n",
              "      <td>0.004104</td>\n",
              "      <td>0.01</td>\n",
              "      <td>10</td>\n",
              "      <td>rbf</td>\n",
              "      <td>{'C': 0.01, 'gamma': 10, 'kernel': 'rbf'}</td>\n",
              "      <td>0.347826</td>\n",
              "      <td>0.347826</td>\n",
              "      <td>0.363636</td>\n",
              "      <td>0.363636</td>\n",
              "      <td>0.409091</td>\n",
              "      <td>0.366403</td>\n",
              "      <td>0.022485</td>\n",
              "      <td>27</td>\n",
              "    </tr>\n",
              "    <tr>\n",
              "      <th>11</th>\n",
              "      <td>0.003125</td>\n",
              "      <td>0.006249</td>\n",
              "      <td>0.000000</td>\n",
              "      <td>0.000000</td>\n",
              "      <td>0.01</td>\n",
              "      <td>100</td>\n",
              "      <td>rbf</td>\n",
              "      <td>{'C': 0.01, 'gamma': 100, 'kernel': 'rbf'}</td>\n",
              "      <td>0.347826</td>\n",
              "      <td>0.347826</td>\n",
              "      <td>0.363636</td>\n",
              "      <td>0.363636</td>\n",
              "      <td>0.409091</td>\n",
              "      <td>0.366403</td>\n",
              "      <td>0.022485</td>\n",
              "      <td>27</td>\n",
              "    </tr>\n",
              "    <tr>\n",
              "      <th>12</th>\n",
              "      <td>0.003124</td>\n",
              "      <td>0.006247</td>\n",
              "      <td>0.000000</td>\n",
              "      <td>0.000000</td>\n",
              "      <td>0.1</td>\n",
              "      <td>0.001</td>\n",
              "      <td>rbf</td>\n",
              "      <td>{'C': 0.1, 'gamma': 0.001, 'kernel': 'rbf'}</td>\n",
              "      <td>0.347826</td>\n",
              "      <td>0.347826</td>\n",
              "      <td>0.363636</td>\n",
              "      <td>0.363636</td>\n",
              "      <td>0.409091</td>\n",
              "      <td>0.366403</td>\n",
              "      <td>0.022485</td>\n",
              "      <td>27</td>\n",
              "    </tr>\n",
              "    <tr>\n",
              "      <th>13</th>\n",
              "      <td>0.000000</td>\n",
              "      <td>0.000000</td>\n",
              "      <td>0.000000</td>\n",
              "      <td>0.000000</td>\n",
              "      <td>0.1</td>\n",
              "      <td>0.01</td>\n",
              "      <td>rbf</td>\n",
              "      <td>{'C': 0.1, 'gamma': 0.01, 'kernel': 'rbf'}</td>\n",
              "      <td>0.695652</td>\n",
              "      <td>0.695652</td>\n",
              "      <td>0.681818</td>\n",
              "      <td>0.681818</td>\n",
              "      <td>0.727273</td>\n",
              "      <td>0.696443</td>\n",
              "      <td>0.016610</td>\n",
              "      <td>22</td>\n",
              "    </tr>\n",
              "    <tr>\n",
              "      <th>14</th>\n",
              "      <td>0.001865</td>\n",
              "      <td>0.003730</td>\n",
              "      <td>0.006125</td>\n",
              "      <td>0.006828</td>\n",
              "      <td>0.1</td>\n",
              "      <td>0.1</td>\n",
              "      <td>rbf</td>\n",
              "      <td>{'C': 0.1, 'gamma': 0.1, 'kernel': 'rbf'}</td>\n",
              "      <td>0.913043</td>\n",
              "      <td>0.913043</td>\n",
              "      <td>0.909091</td>\n",
              "      <td>0.863636</td>\n",
              "      <td>0.909091</td>\n",
              "      <td>0.901581</td>\n",
              "      <td>0.019054</td>\n",
              "      <td>20</td>\n",
              "    </tr>\n",
              "    <tr>\n",
              "      <th>15</th>\n",
              "      <td>0.003016</td>\n",
              "      <td>0.003705</td>\n",
              "      <td>0.002307</td>\n",
              "      <td>0.002942</td>\n",
              "      <td>0.1</td>\n",
              "      <td>1</td>\n",
              "      <td>rbf</td>\n",
              "      <td>{'C': 0.1, 'gamma': 1, 'kernel': 'rbf'}</td>\n",
              "      <td>1.000000</td>\n",
              "      <td>0.913043</td>\n",
              "      <td>1.000000</td>\n",
              "      <td>0.909091</td>\n",
              "      <td>0.954545</td>\n",
              "      <td>0.955336</td>\n",
              "      <td>0.039794</td>\n",
              "      <td>8</td>\n",
              "    </tr>\n",
              "    <tr>\n",
              "      <th>16</th>\n",
              "      <td>0.005239</td>\n",
              "      <td>0.004378</td>\n",
              "      <td>0.000535</td>\n",
              "      <td>0.001070</td>\n",
              "      <td>0.1</td>\n",
              "      <td>10</td>\n",
              "      <td>rbf</td>\n",
              "      <td>{'C': 0.1, 'gamma': 10, 'kernel': 'rbf'}</td>\n",
              "      <td>0.347826</td>\n",
              "      <td>0.347826</td>\n",
              "      <td>0.363636</td>\n",
              "      <td>0.363636</td>\n",
              "      <td>0.409091</td>\n",
              "      <td>0.366403</td>\n",
              "      <td>0.022485</td>\n",
              "      <td>27</td>\n",
              "    </tr>\n",
              "    <tr>\n",
              "      <th>17</th>\n",
              "      <td>0.006480</td>\n",
              "      <td>0.003243</td>\n",
              "      <td>0.002576</td>\n",
              "      <td>0.003305</td>\n",
              "      <td>0.1</td>\n",
              "      <td>100</td>\n",
              "      <td>rbf</td>\n",
              "      <td>{'C': 0.1, 'gamma': 100, 'kernel': 'rbf'}</td>\n",
              "      <td>0.347826</td>\n",
              "      <td>0.347826</td>\n",
              "      <td>0.363636</td>\n",
              "      <td>0.363636</td>\n",
              "      <td>0.409091</td>\n",
              "      <td>0.366403</td>\n",
              "      <td>0.022485</td>\n",
              "      <td>27</td>\n",
              "    </tr>\n",
              "    <tr>\n",
              "      <th>18</th>\n",
              "      <td>0.001374</td>\n",
              "      <td>0.002748</td>\n",
              "      <td>0.003122</td>\n",
              "      <td>0.003826</td>\n",
              "      <td>1</td>\n",
              "      <td>0.001</td>\n",
              "      <td>rbf</td>\n",
              "      <td>{'C': 1, 'gamma': 0.001, 'kernel': 'rbf'}</td>\n",
              "      <td>0.695652</td>\n",
              "      <td>0.695652</td>\n",
              "      <td>0.681818</td>\n",
              "      <td>0.681818</td>\n",
              "      <td>0.727273</td>\n",
              "      <td>0.696443</td>\n",
              "      <td>0.016610</td>\n",
              "      <td>22</td>\n",
              "    </tr>\n",
              "    <tr>\n",
              "      <th>19</th>\n",
              "      <td>0.005647</td>\n",
              "      <td>0.005225</td>\n",
              "      <td>0.000000</td>\n",
              "      <td>0.000000</td>\n",
              "      <td>1</td>\n",
              "      <td>0.01</td>\n",
              "      <td>rbf</td>\n",
              "      <td>{'C': 1, 'gamma': 0.01, 'kernel': 'rbf'}</td>\n",
              "      <td>0.913043</td>\n",
              "      <td>0.913043</td>\n",
              "      <td>1.000000</td>\n",
              "      <td>0.909091</td>\n",
              "      <td>0.954545</td>\n",
              "      <td>0.937945</td>\n",
              "      <td>0.035211</td>\n",
              "      <td>15</td>\n",
              "    </tr>\n",
              "    <tr>\n",
              "      <th>20</th>\n",
              "      <td>0.001900</td>\n",
              "      <td>0.003800</td>\n",
              "      <td>0.001608</td>\n",
              "      <td>0.003216</td>\n",
              "      <td>1</td>\n",
              "      <td>0.1</td>\n",
              "      <td>rbf</td>\n",
              "      <td>{'C': 1, 'gamma': 0.1, 'kernel': 'rbf'}</td>\n",
              "      <td>1.000000</td>\n",
              "      <td>0.956522</td>\n",
              "      <td>1.000000</td>\n",
              "      <td>0.909091</td>\n",
              "      <td>0.954545</td>\n",
              "      <td>0.964032</td>\n",
              "      <td>0.033918</td>\n",
              "      <td>5</td>\n",
              "    </tr>\n",
              "    <tr>\n",
              "      <th>21</th>\n",
              "      <td>0.003093</td>\n",
              "      <td>0.003792</td>\n",
              "      <td>0.000418</td>\n",
              "      <td>0.000836</td>\n",
              "      <td>1</td>\n",
              "      <td>1</td>\n",
              "      <td>rbf</td>\n",
              "      <td>{'C': 1, 'gamma': 1, 'kernel': 'rbf'}</td>\n",
              "      <td>0.956522</td>\n",
              "      <td>0.913043</td>\n",
              "      <td>1.000000</td>\n",
              "      <td>0.909091</td>\n",
              "      <td>0.954545</td>\n",
              "      <td>0.946640</td>\n",
              "      <td>0.033305</td>\n",
              "      <td>12</td>\n",
              "    </tr>\n",
              "    <tr>\n",
              "      <th>22</th>\n",
              "      <td>0.004673</td>\n",
              "      <td>0.006256</td>\n",
              "      <td>0.002134</td>\n",
              "      <td>0.003111</td>\n",
              "      <td>1</td>\n",
              "      <td>10</td>\n",
              "      <td>rbf</td>\n",
              "      <td>{'C': 1, 'gamma': 10, 'kernel': 'rbf'}</td>\n",
              "      <td>0.913043</td>\n",
              "      <td>0.956522</td>\n",
              "      <td>1.000000</td>\n",
              "      <td>0.818182</td>\n",
              "      <td>0.954545</td>\n",
              "      <td>0.928458</td>\n",
              "      <td>0.061620</td>\n",
              "      <td>17</td>\n",
              "    </tr>\n",
              "    <tr>\n",
              "      <th>23</th>\n",
              "      <td>0.006325</td>\n",
              "      <td>0.007800</td>\n",
              "      <td>0.000000</td>\n",
              "      <td>0.000000</td>\n",
              "      <td>1</td>\n",
              "      <td>100</td>\n",
              "      <td>rbf</td>\n",
              "      <td>{'C': 1, 'gamma': 100, 'kernel': 'rbf'}</td>\n",
              "      <td>0.391304</td>\n",
              "      <td>0.434783</td>\n",
              "      <td>0.545455</td>\n",
              "      <td>0.500000</td>\n",
              "      <td>0.636364</td>\n",
              "      <td>0.501581</td>\n",
              "      <td>0.085693</td>\n",
              "      <td>26</td>\n",
              "    </tr>\n",
              "    <tr>\n",
              "      <th>24</th>\n",
              "      <td>0.001601</td>\n",
              "      <td>0.003202</td>\n",
              "      <td>0.002041</td>\n",
              "      <td>0.004082</td>\n",
              "      <td>10</td>\n",
              "      <td>0.001</td>\n",
              "      <td>rbf</td>\n",
              "      <td>{'C': 10, 'gamma': 0.001, 'kernel': 'rbf'}</td>\n",
              "      <td>0.913043</td>\n",
              "      <td>0.913043</td>\n",
              "      <td>1.000000</td>\n",
              "      <td>0.909091</td>\n",
              "      <td>0.954545</td>\n",
              "      <td>0.937945</td>\n",
              "      <td>0.035211</td>\n",
              "      <td>15</td>\n",
              "    </tr>\n",
              "    <tr>\n",
              "      <th>25</th>\n",
              "      <td>0.002970</td>\n",
              "      <td>0.005939</td>\n",
              "      <td>0.000607</td>\n",
              "      <td>0.001213</td>\n",
              "      <td>10</td>\n",
              "      <td>0.01</td>\n",
              "      <td>rbf</td>\n",
              "      <td>{'C': 10, 'gamma': 0.01, 'kernel': 'rbf'}</td>\n",
              "      <td>1.000000</td>\n",
              "      <td>0.956522</td>\n",
              "      <td>1.000000</td>\n",
              "      <td>0.909091</td>\n",
              "      <td>0.954545</td>\n",
              "      <td>0.964032</td>\n",
              "      <td>0.033918</td>\n",
              "      <td>5</td>\n",
              "    </tr>\n",
              "    <tr>\n",
              "      <th>26</th>\n",
              "      <td>0.002746</td>\n",
              "      <td>0.005492</td>\n",
              "      <td>0.001601</td>\n",
              "      <td>0.003202</td>\n",
              "      <td>10</td>\n",
              "      <td>0.1</td>\n",
              "      <td>rbf</td>\n",
              "      <td>{'C': 10, 'gamma': 0.1, 'kernel': 'rbf'}</td>\n",
              "      <td>1.000000</td>\n",
              "      <td>0.956522</td>\n",
              "      <td>1.000000</td>\n",
              "      <td>0.954545</td>\n",
              "      <td>0.954545</td>\n",
              "      <td>0.973123</td>\n",
              "      <td>0.021957</td>\n",
              "      <td>1</td>\n",
              "    </tr>\n",
              "    <tr>\n",
              "      <th>27</th>\n",
              "      <td>0.003493</td>\n",
              "      <td>0.005792</td>\n",
              "      <td>0.000000</td>\n",
              "      <td>0.000000</td>\n",
              "      <td>10</td>\n",
              "      <td>1</td>\n",
              "      <td>rbf</td>\n",
              "      <td>{'C': 10, 'gamma': 1, 'kernel': 'rbf'}</td>\n",
              "      <td>0.956522</td>\n",
              "      <td>0.956522</td>\n",
              "      <td>1.000000</td>\n",
              "      <td>0.863636</td>\n",
              "      <td>0.954545</td>\n",
              "      <td>0.946245</td>\n",
              "      <td>0.044708</td>\n",
              "      <td>13</td>\n",
              "    </tr>\n",
              "    <tr>\n",
              "      <th>28</th>\n",
              "      <td>0.002210</td>\n",
              "      <td>0.003127</td>\n",
              "      <td>0.000000</td>\n",
              "      <td>0.000000</td>\n",
              "      <td>10</td>\n",
              "      <td>10</td>\n",
              "      <td>rbf</td>\n",
              "      <td>{'C': 10, 'gamma': 10, 'kernel': 'rbf'}</td>\n",
              "      <td>0.869565</td>\n",
              "      <td>0.913043</td>\n",
              "      <td>1.000000</td>\n",
              "      <td>0.818182</td>\n",
              "      <td>0.954545</td>\n",
              "      <td>0.911067</td>\n",
              "      <td>0.063488</td>\n",
              "      <td>18</td>\n",
              "    </tr>\n",
              "    <tr>\n",
              "      <th>29</th>\n",
              "      <td>0.003351</td>\n",
              "      <td>0.004112</td>\n",
              "      <td>0.003064</td>\n",
              "      <td>0.006129</td>\n",
              "      <td>10</td>\n",
              "      <td>100</td>\n",
              "      <td>rbf</td>\n",
              "      <td>{'C': 10, 'gamma': 100, 'kernel': 'rbf'}</td>\n",
              "      <td>0.521739</td>\n",
              "      <td>0.521739</td>\n",
              "      <td>0.590909</td>\n",
              "      <td>0.590909</td>\n",
              "      <td>0.681818</td>\n",
              "      <td>0.581423</td>\n",
              "      <td>0.058964</td>\n",
              "      <td>24</td>\n",
              "    </tr>\n",
              "    <tr>\n",
              "      <th>30</th>\n",
              "      <td>0.001576</td>\n",
              "      <td>0.003152</td>\n",
              "      <td>0.000598</td>\n",
              "      <td>0.001196</td>\n",
              "      <td>100</td>\n",
              "      <td>0.001</td>\n",
              "      <td>rbf</td>\n",
              "      <td>{'C': 100, 'gamma': 0.001, 'kernel': 'rbf'}</td>\n",
              "      <td>1.000000</td>\n",
              "      <td>0.956522</td>\n",
              "      <td>1.000000</td>\n",
              "      <td>0.909091</td>\n",
              "      <td>0.954545</td>\n",
              "      <td>0.964032</td>\n",
              "      <td>0.033918</td>\n",
              "      <td>5</td>\n",
              "    </tr>\n",
              "    <tr>\n",
              "      <th>31</th>\n",
              "      <td>0.002877</td>\n",
              "      <td>0.005754</td>\n",
              "      <td>0.000000</td>\n",
              "      <td>0.000000</td>\n",
              "      <td>100</td>\n",
              "      <td>0.01</td>\n",
              "      <td>rbf</td>\n",
              "      <td>{'C': 100, 'gamma': 0.01, 'kernel': 'rbf'}</td>\n",
              "      <td>1.000000</td>\n",
              "      <td>0.913043</td>\n",
              "      <td>1.000000</td>\n",
              "      <td>0.954545</td>\n",
              "      <td>0.954545</td>\n",
              "      <td>0.964427</td>\n",
              "      <td>0.032761</td>\n",
              "      <td>4</td>\n",
              "    </tr>\n",
              "    <tr>\n",
              "      <th>32</th>\n",
              "      <td>0.001585</td>\n",
              "      <td>0.003170</td>\n",
              "      <td>0.000000</td>\n",
              "      <td>0.000000</td>\n",
              "      <td>100</td>\n",
              "      <td>0.1</td>\n",
              "      <td>rbf</td>\n",
              "      <td>{'C': 100, 'gamma': 0.1, 'kernel': 'rbf'}</td>\n",
              "      <td>1.000000</td>\n",
              "      <td>0.956522</td>\n",
              "      <td>1.000000</td>\n",
              "      <td>0.863636</td>\n",
              "      <td>0.954545</td>\n",
              "      <td>0.954941</td>\n",
              "      <td>0.049799</td>\n",
              "      <td>11</td>\n",
              "    </tr>\n",
              "    <tr>\n",
              "      <th>33</th>\n",
              "      <td>0.000498</td>\n",
              "      <td>0.000996</td>\n",
              "      <td>0.000000</td>\n",
              "      <td>0.000000</td>\n",
              "      <td>100</td>\n",
              "      <td>1</td>\n",
              "      <td>rbf</td>\n",
              "      <td>{'C': 100, 'gamma': 1, 'kernel': 'rbf'}</td>\n",
              "      <td>0.956522</td>\n",
              "      <td>0.956522</td>\n",
              "      <td>1.000000</td>\n",
              "      <td>0.863636</td>\n",
              "      <td>0.954545</td>\n",
              "      <td>0.946245</td>\n",
              "      <td>0.044708</td>\n",
              "      <td>13</td>\n",
              "    </tr>\n",
              "    <tr>\n",
              "      <th>34</th>\n",
              "      <td>0.002702</td>\n",
              "      <td>0.005404</td>\n",
              "      <td>0.003366</td>\n",
              "      <td>0.004131</td>\n",
              "      <td>100</td>\n",
              "      <td>10</td>\n",
              "      <td>rbf</td>\n",
              "      <td>{'C': 100, 'gamma': 10, 'kernel': 'rbf'}</td>\n",
              "      <td>0.869565</td>\n",
              "      <td>0.913043</td>\n",
              "      <td>1.000000</td>\n",
              "      <td>0.818182</td>\n",
              "      <td>0.954545</td>\n",
              "      <td>0.911067</td>\n",
              "      <td>0.063488</td>\n",
              "      <td>18</td>\n",
              "    </tr>\n",
              "    <tr>\n",
              "      <th>35</th>\n",
              "      <td>0.003200</td>\n",
              "      <td>0.003919</td>\n",
              "      <td>0.000000</td>\n",
              "      <td>0.000000</td>\n",
              "      <td>100</td>\n",
              "      <td>100</td>\n",
              "      <td>rbf</td>\n",
              "      <td>{'C': 100, 'gamma': 100, 'kernel': 'rbf'}</td>\n",
              "      <td>0.521739</td>\n",
              "      <td>0.521739</td>\n",
              "      <td>0.590909</td>\n",
              "      <td>0.590909</td>\n",
              "      <td>0.681818</td>\n",
              "      <td>0.581423</td>\n",
              "      <td>0.058964</td>\n",
              "      <td>24</td>\n",
              "    </tr>\n",
              "    <tr>\n",
              "      <th>36</th>\n",
              "      <td>0.003124</td>\n",
              "      <td>0.006249</td>\n",
              "      <td>0.000000</td>\n",
              "      <td>0.000000</td>\n",
              "      <td>0.001</td>\n",
              "      <td>NaN</td>\n",
              "      <td>linear</td>\n",
              "      <td>{'C': 0.001, 'kernel': 'linear'}</td>\n",
              "      <td>0.347826</td>\n",
              "      <td>0.347826</td>\n",
              "      <td>0.363636</td>\n",
              "      <td>0.363636</td>\n",
              "      <td>0.409091</td>\n",
              "      <td>0.366403</td>\n",
              "      <td>0.022485</td>\n",
              "      <td>27</td>\n",
              "    </tr>\n",
              "    <tr>\n",
              "      <th>37</th>\n",
              "      <td>0.000000</td>\n",
              "      <td>0.000000</td>\n",
              "      <td>0.003124</td>\n",
              "      <td>0.006248</td>\n",
              "      <td>0.01</td>\n",
              "      <td>NaN</td>\n",
              "      <td>linear</td>\n",
              "      <td>{'C': 0.01, 'kernel': 'linear'}</td>\n",
              "      <td>0.869565</td>\n",
              "      <td>0.869565</td>\n",
              "      <td>0.772727</td>\n",
              "      <td>0.772727</td>\n",
              "      <td>0.909091</td>\n",
              "      <td>0.838735</td>\n",
              "      <td>0.055794</td>\n",
              "      <td>21</td>\n",
              "    </tr>\n",
              "    <tr>\n",
              "      <th>38</th>\n",
              "      <td>0.003124</td>\n",
              "      <td>0.006247</td>\n",
              "      <td>0.000000</td>\n",
              "      <td>0.000000</td>\n",
              "      <td>0.1</td>\n",
              "      <td>NaN</td>\n",
              "      <td>linear</td>\n",
              "      <td>{'C': 0.1, 'kernel': 'linear'}</td>\n",
              "      <td>1.000000</td>\n",
              "      <td>0.913043</td>\n",
              "      <td>1.000000</td>\n",
              "      <td>0.909091</td>\n",
              "      <td>0.954545</td>\n",
              "      <td>0.955336</td>\n",
              "      <td>0.039794</td>\n",
              "      <td>8</td>\n",
              "    </tr>\n",
              "    <tr>\n",
              "      <th>39</th>\n",
              "      <td>0.000000</td>\n",
              "      <td>0.000000</td>\n",
              "      <td>0.003124</td>\n",
              "      <td>0.006248</td>\n",
              "      <td>1</td>\n",
              "      <td>NaN</td>\n",
              "      <td>linear</td>\n",
              "      <td>{'C': 1, 'kernel': 'linear'}</td>\n",
              "      <td>1.000000</td>\n",
              "      <td>0.956522</td>\n",
              "      <td>1.000000</td>\n",
              "      <td>0.954545</td>\n",
              "      <td>0.954545</td>\n",
              "      <td>0.973123</td>\n",
              "      <td>0.021957</td>\n",
              "      <td>1</td>\n",
              "    </tr>\n",
              "    <tr>\n",
              "      <th>40</th>\n",
              "      <td>0.000000</td>\n",
              "      <td>0.000000</td>\n",
              "      <td>0.000000</td>\n",
              "      <td>0.000000</td>\n",
              "      <td>10</td>\n",
              "      <td>NaN</td>\n",
              "      <td>linear</td>\n",
              "      <td>{'C': 10, 'kernel': 'linear'}</td>\n",
              "      <td>1.000000</td>\n",
              "      <td>1.000000</td>\n",
              "      <td>1.000000</td>\n",
              "      <td>0.909091</td>\n",
              "      <td>0.954545</td>\n",
              "      <td>0.972727</td>\n",
              "      <td>0.036364</td>\n",
              "      <td>3</td>\n",
              "    </tr>\n",
              "    <tr>\n",
              "      <th>41</th>\n",
              "      <td>0.003124</td>\n",
              "      <td>0.006248</td>\n",
              "      <td>0.000000</td>\n",
              "      <td>0.000000</td>\n",
              "      <td>100</td>\n",
              "      <td>NaN</td>\n",
              "      <td>linear</td>\n",
              "      <td>{'C': 100, 'kernel': 'linear'}</td>\n",
              "      <td>0.956522</td>\n",
              "      <td>0.956522</td>\n",
              "      <td>1.000000</td>\n",
              "      <td>0.909091</td>\n",
              "      <td>0.954545</td>\n",
              "      <td>0.955336</td>\n",
              "      <td>0.028764</td>\n",
              "      <td>8</td>\n",
              "    </tr>\n",
              "  </tbody>\n",
              "</table>\n",
              "</div>"
            ],
            "text/plain": [
              "    mean_fit_time  std_fit_time  mean_score_time  std_score_time param_C  \\\n",
              "0        0.006028      0.003065         0.002554        0.003292   0.001   \n",
              "1        0.001601      0.003202         0.002411        0.003206   0.001   \n",
              "2        0.000000      0.000000         0.003472        0.004273   0.001   \n",
              "3        0.001606      0.003212         0.000000        0.000000   0.001   \n",
              "4        0.000000      0.000000         0.003132        0.006264   0.001   \n",
              "5        0.000000      0.000000         0.003124        0.006248   0.001   \n",
              "6        0.003124      0.006248         0.000000        0.000000    0.01   \n",
              "7        0.000000      0.000000         0.000000        0.000000    0.01   \n",
              "8        0.003124      0.006248         0.000000        0.000000    0.01   \n",
              "9        0.006245      0.005845         0.000000        0.000000    0.01   \n",
              "10       0.000000      0.000000         0.005007        0.004104    0.01   \n",
              "11       0.003125      0.006249         0.000000        0.000000    0.01   \n",
              "12       0.003124      0.006247         0.000000        0.000000     0.1   \n",
              "13       0.000000      0.000000         0.000000        0.000000     0.1   \n",
              "14       0.001865      0.003730         0.006125        0.006828     0.1   \n",
              "15       0.003016      0.003705         0.002307        0.002942     0.1   \n",
              "16       0.005239      0.004378         0.000535        0.001070     0.1   \n",
              "17       0.006480      0.003243         0.002576        0.003305     0.1   \n",
              "18       0.001374      0.002748         0.003122        0.003826       1   \n",
              "19       0.005647      0.005225         0.000000        0.000000       1   \n",
              "20       0.001900      0.003800         0.001608        0.003216       1   \n",
              "21       0.003093      0.003792         0.000418        0.000836       1   \n",
              "22       0.004673      0.006256         0.002134        0.003111       1   \n",
              "23       0.006325      0.007800         0.000000        0.000000       1   \n",
              "24       0.001601      0.003202         0.002041        0.004082      10   \n",
              "25       0.002970      0.005939         0.000607        0.001213      10   \n",
              "26       0.002746      0.005492         0.001601        0.003202      10   \n",
              "27       0.003493      0.005792         0.000000        0.000000      10   \n",
              "28       0.002210      0.003127         0.000000        0.000000      10   \n",
              "29       0.003351      0.004112         0.003064        0.006129      10   \n",
              "30       0.001576      0.003152         0.000598        0.001196     100   \n",
              "31       0.002877      0.005754         0.000000        0.000000     100   \n",
              "32       0.001585      0.003170         0.000000        0.000000     100   \n",
              "33       0.000498      0.000996         0.000000        0.000000     100   \n",
              "34       0.002702      0.005404         0.003366        0.004131     100   \n",
              "35       0.003200      0.003919         0.000000        0.000000     100   \n",
              "36       0.003124      0.006249         0.000000        0.000000   0.001   \n",
              "37       0.000000      0.000000         0.003124        0.006248    0.01   \n",
              "38       0.003124      0.006247         0.000000        0.000000     0.1   \n",
              "39       0.000000      0.000000         0.003124        0.006248       1   \n",
              "40       0.000000      0.000000         0.000000        0.000000      10   \n",
              "41       0.003124      0.006248         0.000000        0.000000     100   \n",
              "\n",
              "   param_gamma param_kernel                                         params  \\\n",
              "0        0.001          rbf  {'C': 0.001, 'gamma': 0.001, 'kernel': 'rbf'}   \n",
              "1         0.01          rbf   {'C': 0.001, 'gamma': 0.01, 'kernel': 'rbf'}   \n",
              "2          0.1          rbf    {'C': 0.001, 'gamma': 0.1, 'kernel': 'rbf'}   \n",
              "3            1          rbf      {'C': 0.001, 'gamma': 1, 'kernel': 'rbf'}   \n",
              "4           10          rbf     {'C': 0.001, 'gamma': 10, 'kernel': 'rbf'}   \n",
              "5          100          rbf    {'C': 0.001, 'gamma': 100, 'kernel': 'rbf'}   \n",
              "6        0.001          rbf   {'C': 0.01, 'gamma': 0.001, 'kernel': 'rbf'}   \n",
              "7         0.01          rbf    {'C': 0.01, 'gamma': 0.01, 'kernel': 'rbf'}   \n",
              "8          0.1          rbf     {'C': 0.01, 'gamma': 0.1, 'kernel': 'rbf'}   \n",
              "9            1          rbf       {'C': 0.01, 'gamma': 1, 'kernel': 'rbf'}   \n",
              "10          10          rbf      {'C': 0.01, 'gamma': 10, 'kernel': 'rbf'}   \n",
              "11         100          rbf     {'C': 0.01, 'gamma': 100, 'kernel': 'rbf'}   \n",
              "12       0.001          rbf    {'C': 0.1, 'gamma': 0.001, 'kernel': 'rbf'}   \n",
              "13        0.01          rbf     {'C': 0.1, 'gamma': 0.01, 'kernel': 'rbf'}   \n",
              "14         0.1          rbf      {'C': 0.1, 'gamma': 0.1, 'kernel': 'rbf'}   \n",
              "15           1          rbf        {'C': 0.1, 'gamma': 1, 'kernel': 'rbf'}   \n",
              "16          10          rbf       {'C': 0.1, 'gamma': 10, 'kernel': 'rbf'}   \n",
              "17         100          rbf      {'C': 0.1, 'gamma': 100, 'kernel': 'rbf'}   \n",
              "18       0.001          rbf      {'C': 1, 'gamma': 0.001, 'kernel': 'rbf'}   \n",
              "19        0.01          rbf       {'C': 1, 'gamma': 0.01, 'kernel': 'rbf'}   \n",
              "20         0.1          rbf        {'C': 1, 'gamma': 0.1, 'kernel': 'rbf'}   \n",
              "21           1          rbf          {'C': 1, 'gamma': 1, 'kernel': 'rbf'}   \n",
              "22          10          rbf         {'C': 1, 'gamma': 10, 'kernel': 'rbf'}   \n",
              "23         100          rbf        {'C': 1, 'gamma': 100, 'kernel': 'rbf'}   \n",
              "24       0.001          rbf     {'C': 10, 'gamma': 0.001, 'kernel': 'rbf'}   \n",
              "25        0.01          rbf      {'C': 10, 'gamma': 0.01, 'kernel': 'rbf'}   \n",
              "26         0.1          rbf       {'C': 10, 'gamma': 0.1, 'kernel': 'rbf'}   \n",
              "27           1          rbf         {'C': 10, 'gamma': 1, 'kernel': 'rbf'}   \n",
              "28          10          rbf        {'C': 10, 'gamma': 10, 'kernel': 'rbf'}   \n",
              "29         100          rbf       {'C': 10, 'gamma': 100, 'kernel': 'rbf'}   \n",
              "30       0.001          rbf    {'C': 100, 'gamma': 0.001, 'kernel': 'rbf'}   \n",
              "31        0.01          rbf     {'C': 100, 'gamma': 0.01, 'kernel': 'rbf'}   \n",
              "32         0.1          rbf      {'C': 100, 'gamma': 0.1, 'kernel': 'rbf'}   \n",
              "33           1          rbf        {'C': 100, 'gamma': 1, 'kernel': 'rbf'}   \n",
              "34          10          rbf       {'C': 100, 'gamma': 10, 'kernel': 'rbf'}   \n",
              "35         100          rbf      {'C': 100, 'gamma': 100, 'kernel': 'rbf'}   \n",
              "36         NaN       linear               {'C': 0.001, 'kernel': 'linear'}   \n",
              "37         NaN       linear                {'C': 0.01, 'kernel': 'linear'}   \n",
              "38         NaN       linear                 {'C': 0.1, 'kernel': 'linear'}   \n",
              "39         NaN       linear                   {'C': 1, 'kernel': 'linear'}   \n",
              "40         NaN       linear                  {'C': 10, 'kernel': 'linear'}   \n",
              "41         NaN       linear                 {'C': 100, 'kernel': 'linear'}   \n",
              "\n",
              "    split0_test_score  split1_test_score  split2_test_score  \\\n",
              "0            0.347826           0.347826           0.363636   \n",
              "1            0.347826           0.347826           0.363636   \n",
              "2            0.347826           0.347826           0.363636   \n",
              "3            0.347826           0.347826           0.363636   \n",
              "4            0.347826           0.347826           0.363636   \n",
              "5            0.347826           0.347826           0.363636   \n",
              "6            0.347826           0.347826           0.363636   \n",
              "7            0.347826           0.347826           0.363636   \n",
              "8            0.347826           0.347826           0.363636   \n",
              "9            0.347826           0.347826           0.363636   \n",
              "10           0.347826           0.347826           0.363636   \n",
              "11           0.347826           0.347826           0.363636   \n",
              "12           0.347826           0.347826           0.363636   \n",
              "13           0.695652           0.695652           0.681818   \n",
              "14           0.913043           0.913043           0.909091   \n",
              "15           1.000000           0.913043           1.000000   \n",
              "16           0.347826           0.347826           0.363636   \n",
              "17           0.347826           0.347826           0.363636   \n",
              "18           0.695652           0.695652           0.681818   \n",
              "19           0.913043           0.913043           1.000000   \n",
              "20           1.000000           0.956522           1.000000   \n",
              "21           0.956522           0.913043           1.000000   \n",
              "22           0.913043           0.956522           1.000000   \n",
              "23           0.391304           0.434783           0.545455   \n",
              "24           0.913043           0.913043           1.000000   \n",
              "25           1.000000           0.956522           1.000000   \n",
              "26           1.000000           0.956522           1.000000   \n",
              "27           0.956522           0.956522           1.000000   \n",
              "28           0.869565           0.913043           1.000000   \n",
              "29           0.521739           0.521739           0.590909   \n",
              "30           1.000000           0.956522           1.000000   \n",
              "31           1.000000           0.913043           1.000000   \n",
              "32           1.000000           0.956522           1.000000   \n",
              "33           0.956522           0.956522           1.000000   \n",
              "34           0.869565           0.913043           1.000000   \n",
              "35           0.521739           0.521739           0.590909   \n",
              "36           0.347826           0.347826           0.363636   \n",
              "37           0.869565           0.869565           0.772727   \n",
              "38           1.000000           0.913043           1.000000   \n",
              "39           1.000000           0.956522           1.000000   \n",
              "40           1.000000           1.000000           1.000000   \n",
              "41           0.956522           0.956522           1.000000   \n",
              "\n",
              "    split3_test_score  split4_test_score  mean_test_score  std_test_score  \\\n",
              "0            0.363636           0.409091         0.366403        0.022485   \n",
              "1            0.363636           0.409091         0.366403        0.022485   \n",
              "2            0.363636           0.409091         0.366403        0.022485   \n",
              "3            0.363636           0.409091         0.366403        0.022485   \n",
              "4            0.363636           0.409091         0.366403        0.022485   \n",
              "5            0.363636           0.409091         0.366403        0.022485   \n",
              "6            0.363636           0.409091         0.366403        0.022485   \n",
              "7            0.363636           0.409091         0.366403        0.022485   \n",
              "8            0.363636           0.409091         0.366403        0.022485   \n",
              "9            0.363636           0.409091         0.366403        0.022485   \n",
              "10           0.363636           0.409091         0.366403        0.022485   \n",
              "11           0.363636           0.409091         0.366403        0.022485   \n",
              "12           0.363636           0.409091         0.366403        0.022485   \n",
              "13           0.681818           0.727273         0.696443        0.016610   \n",
              "14           0.863636           0.909091         0.901581        0.019054   \n",
              "15           0.909091           0.954545         0.955336        0.039794   \n",
              "16           0.363636           0.409091         0.366403        0.022485   \n",
              "17           0.363636           0.409091         0.366403        0.022485   \n",
              "18           0.681818           0.727273         0.696443        0.016610   \n",
              "19           0.909091           0.954545         0.937945        0.035211   \n",
              "20           0.909091           0.954545         0.964032        0.033918   \n",
              "21           0.909091           0.954545         0.946640        0.033305   \n",
              "22           0.818182           0.954545         0.928458        0.061620   \n",
              "23           0.500000           0.636364         0.501581        0.085693   \n",
              "24           0.909091           0.954545         0.937945        0.035211   \n",
              "25           0.909091           0.954545         0.964032        0.033918   \n",
              "26           0.954545           0.954545         0.973123        0.021957   \n",
              "27           0.863636           0.954545         0.946245        0.044708   \n",
              "28           0.818182           0.954545         0.911067        0.063488   \n",
              "29           0.590909           0.681818         0.581423        0.058964   \n",
              "30           0.909091           0.954545         0.964032        0.033918   \n",
              "31           0.954545           0.954545         0.964427        0.032761   \n",
              "32           0.863636           0.954545         0.954941        0.049799   \n",
              "33           0.863636           0.954545         0.946245        0.044708   \n",
              "34           0.818182           0.954545         0.911067        0.063488   \n",
              "35           0.590909           0.681818         0.581423        0.058964   \n",
              "36           0.363636           0.409091         0.366403        0.022485   \n",
              "37           0.772727           0.909091         0.838735        0.055794   \n",
              "38           0.909091           0.954545         0.955336        0.039794   \n",
              "39           0.954545           0.954545         0.973123        0.021957   \n",
              "40           0.909091           0.954545         0.972727        0.036364   \n",
              "41           0.909091           0.954545         0.955336        0.028764   \n",
              "\n",
              "    rank_test_score  \n",
              "0                27  \n",
              "1                27  \n",
              "2                27  \n",
              "3                27  \n",
              "4                27  \n",
              "5                27  \n",
              "6                27  \n",
              "7                27  \n",
              "8                27  \n",
              "9                27  \n",
              "10               27  \n",
              "11               27  \n",
              "12               27  \n",
              "13               22  \n",
              "14               20  \n",
              "15                8  \n",
              "16               27  \n",
              "17               27  \n",
              "18               22  \n",
              "19               15  \n",
              "20                5  \n",
              "21               12  \n",
              "22               17  \n",
              "23               26  \n",
              "24               15  \n",
              "25                5  \n",
              "26                1  \n",
              "27               13  \n",
              "28               18  \n",
              "29               24  \n",
              "30                5  \n",
              "31                4  \n",
              "32               11  \n",
              "33               13  \n",
              "34               18  \n",
              "35               24  \n",
              "36               27  \n",
              "37               21  \n",
              "38                8  \n",
              "39                1  \n",
              "40                3  \n",
              "41                8  "
            ]
          },
          "execution_count": 34,
          "metadata": {},
          "output_type": "execute_result"
        }
      ],
      "source": [
        "results"
      ]
    },
    {
      "cell_type": "code",
      "execution_count": null,
      "id": "f60cc943-3087-4f7a-9a4c-005895aad4f6",
      "metadata": {
        "id": "f60cc943-3087-4f7a-9a4c-005895aad4f6",
        "outputId": "1e579367-0e33-4bc5-fabb-669fc54e8b74"
      },
      "outputs": [
        {
          "name": "stdout",
          "output_type": "stream",
          "text": [
            "Знач-е прав-и перекрестной пр-ки:  [0.96666667 1.         0.9        0.96666667 1.        ]\n",
            "Среднее знач-е прав-и перекрестной проверки:  0.9666666666666668\n"
          ]
        }
      ],
      "source": [
        "scores = cross_val_score(GridSearchCV(SVC(), param_grid, cv = 5), iris.data, iris.target, cv = 5)\n",
        "print(\"Знач-е прав-и перекрестной пр-ки: \", scores)\n",
        "print(\"Среднее знач-е прав-и перекрестной проверки: \", scores.mean())"
      ]
    },
    {
      "cell_type": "code",
      "execution_count": null,
      "id": "783b3c33-73b1-445c-8422-b9799b50f270",
      "metadata": {
        "id": "783b3c33-73b1-445c-8422-b9799b50f270"
      },
      "outputs": [],
      "source": [
        "def nested_cv(X, y, inner_cv, outer_cv, Classifier, parameter_grid):\n",
        "    outer_scores = []\n",
        "    # для каждого разбиения данных во внешней перекрестной проверке\n",
        "    # (метод split возвращает индексы)\n",
        "    for training_samples, test_samples in outer_cv.split(X, y):\n",
        "        # находим наилучшие параметры с помощью внутренней перекрестной проверки\n",
        "        best_parms = {}\n",
        "        best_score = -np.inf\n",
        "        # итерируем по параметрам\n",
        "        for parameters in parameter_grid:\n",
        "             # собираем значения правильности по всем внутренним разбиениям\n",
        "            cv_scores = []\n",
        "             # итерируем по разбиениям внутренней перекрестной проверки\n",
        "            for inner_train, inner_test in inner_cv.split(\n",
        "                    X[training_samples], y[training_samples]):\n",
        "                # строим классификатор с данными параметрами на внутреннем обучающем наборе\n",
        "                clf = Classifier(**parameters)\n",
        "                clf.fit(X[inner_train], y[inner_train])\n",
        "               # оцениваем качество на внутреннем тестовом наборе\n",
        "                score = clf.score(X[inner_test], y[inner_test])\n",
        "                cv_scores.append(score)\n",
        "            # вычисляем среднее значение правильности по внутренним блокам\n",
        "            mean_score = np.mean(cv_scores)\n",
        "            if mean_score > best_score:\n",
        "                # если лучше, чем предыдущие, запоминаем параметры\n",
        "                best_score = mean_score\n",
        "                best_params = parameters\n",
        "        # строим классификатор с лучшими параметрами на внешнем обучающем наборе\n",
        "        clf = Classifier(**best_params)\n",
        "        clf.fit(X[training_samples], y[training_samples])\n",
        "        # оцениваем качество на внешнем тестовом наборе\n",
        "        outer_scores.append(clf.score(X[test_samples], y[test_samples]))\n",
        "    return np.array(outer_scores)\n"
      ]
    },
    {
      "cell_type": "code",
      "execution_count": null,
      "id": "7e389de6-7675-4f05-9955-71409b68b0a4",
      "metadata": {
        "id": "7e389de6-7675-4f05-9955-71409b68b0a4",
        "outputId": "f2902182-db48-4968-b949-742b16fb2308"
      },
      "outputs": [
        {
          "name": "stdout",
          "output_type": "stream",
          "text": [
            "Значения правильности перекрестной проверки: [0.96666667 1.         0.96666667 0.96666667 1.        ]\n"
          ]
        }
      ],
      "source": [
        "from sklearn.model_selection import ParameterGrid, StratifiedKFold\n",
        "scores = nested_cv(iris.data, iris.target, StratifiedKFold(5), StratifiedKFold(5), SVC, ParameterGrid(param_grid))\n",
        "print(\"Значения правильности перекрестной проверки: {}\".format(scores))"
      ]
    },
    {
      "cell_type": "code",
      "execution_count": null,
      "id": "102feb6b-f044-4bc9-81b1-66700594d6d1",
      "metadata": {
        "id": "102feb6b-f044-4bc9-81b1-66700594d6d1",
        "outputId": "2e2c8c85-871e-4a17-ca13-6bc7385a8875"
      },
      "outputs": [
        {
          "name": "stdout",
          "output_type": "stream",
          "text": [
            "Значения правильности перекрестной проверки: [0.96666667 1.         0.96666667 0.96666667 1.        ]\n"
          ]
        }
      ],
      "source": [
        "from sklearn.model_selection import ParameterGrid, StratifiedKFold\n",
        "scores = nested_cv(iris.data, iris.target, StratifiedKFold(5), StratifiedKFold(5), SVC, ParameterGrid(param_grid))\n",
        "print(\"Значения правильности перекрестной проверки: {}\".format(scores))"
      ]
    },
    {
      "cell_type": "code",
      "execution_count": null,
      "id": "cab28d4f-816e-4854-9d83-a054ba06a57b",
      "metadata": {
        "id": "cab28d4f-816e-4854-9d83-a054ba06a57b"
      },
      "outputs": [],
      "source": [
        "from sklearn.datasets import load_digits\n",
        "digits = load_digits()\n",
        "y = digits.target == 9\n",
        "X_train, X_test, y_train, y_test = train_test_split( digits.data, y, random_state=0)"
      ]
    },
    {
      "cell_type": "code",
      "execution_count": null,
      "id": "ad57cad0-8da5-47b8-a821-f09fe2c0b50b",
      "metadata": {
        "id": "ad57cad0-8da5-47b8-a821-f09fe2c0b50b",
        "outputId": "80e8d941-4fb7-4439-d292-df26506572ec"
      },
      "outputs": [
        {
          "name": "stdout",
          "output_type": "stream",
          "text": [
            "Уникальные спрогнозированые метки: [False]\n",
            "Правильность на тестовом наборе: 0.90\n"
          ]
        }
      ],
      "source": [
        "from sklearn.dummy import DummyClassifier\n",
        "dummy_majority = DummyClassifier(strategy='most_frequent').fit(X_train, y_train)\n",
        "pred_most_frequent = dummy_majority.predict(X_test)\n",
        "print(\"Уникальные спрогнозированые метки: {}\".format(np.unique(pred_most_frequent)))\n",
        "print(\"Правильность на тестовом наборе: {:.2f}\".format(dummy_majority.score(X_test, y_test)))\n"
      ]
    },
    {
      "cell_type": "code",
      "execution_count": null,
      "id": "8aff1642-8920-47b2-be92-d7521a856bfa",
      "metadata": {
        "id": "8aff1642-8920-47b2-be92-d7521a856bfa",
        "outputId": "9483c4d3-72f2-4be6-f085-ddeb7f2b61c8"
      },
      "outputs": [
        {
          "name": "stdout",
          "output_type": "stream",
          "text": [
            "Правильность на тестовом наборе: 0.92\n"
          ]
        }
      ],
      "source": [
        "from sklearn.tree import DecisionTreeClassifier\n",
        "tree = DecisionTreeClassifier(max_depth=2).fit(X_train, y_train)\n",
        "pred_tree = tree.predict(X_test)\n",
        "print(\"Правильность на тестовом наборе: {:.2f}\".format(tree.score(X_test, y_test)))"
      ]
    },
    {
      "cell_type": "code",
      "execution_count": null,
      "id": "3ab96e23-e9e5-4dfb-b326-af44c135b168",
      "metadata": {
        "id": "3ab96e23-e9e5-4dfb-b326-af44c135b168",
        "outputId": "ad67c4cc-d1eb-4387-de00-3df07b7ebd31"
      },
      "outputs": [
        {
          "name": "stdout",
          "output_type": "stream",
          "text": [
            "Правильность dummy: 0.90\n",
            "Правильность dummy: 0.98\n"
          ]
        }
      ],
      "source": [
        "from sklearn.linear_model import LogisticRegression\n",
        "dummy = DummyClassifier().fit(X_train, y_train)\n",
        "pred_dummy = dummy.predict(X_test)\n",
        "print(\"Правильность dummy: {:.2f}\".format(dummy.score(X_test, y_test)))\n",
        "logreg = LogisticRegression(C=0.1, max_iter=1000).fit(X_train, y_train)\n",
        "pred_logreg = logreg.predict(X_test)\n",
        "print(\"Правильность dummy: {:.2f}\".format(logreg.score(X_test, y_test)))"
      ]
    },
    {
      "cell_type": "code",
      "execution_count": null,
      "id": "7d6f4657-d428-44da-8a99-0d7ea683ecac",
      "metadata": {
        "id": "7d6f4657-d428-44da-8a99-0d7ea683ecac",
        "outputId": "17c5ab11-b134-4877-d8cf-85fe81876a08"
      },
      "outputs": [
        {
          "name": "stdout",
          "output_type": "stream",
          "text": [
            "Confusion matrix: \n",
            "[[402   1]\n",
            " [  6  41]]\n"
          ]
        }
      ],
      "source": [
        "from sklearn.metrics import confusion_matrix\n",
        "confusion = confusion_matrix(y_test, pred_logreg)\n",
        "print(\"Confusion matrix: \\n{}\".format(confusion))"
      ]
    },
    {
      "cell_type": "code",
      "execution_count": null,
      "id": "e8397219-292c-4073-adc2-36caeef0b900",
      "metadata": {
        "id": "e8397219-292c-4073-adc2-36caeef0b900",
        "outputId": "10c749df-89b9-4424-d00e-6c02e73742d0"
      },
      "outputs": [
        {
          "data": {
            "image/png": "[encoded data removed]",
            "text/plain": [
              "<Figure size 800x800 with 1 Axes>"
            ]
          },
          "metadata": {},
          "output_type": "display_data"
        }
      ],
      "source": [
        "mglearn.plots.plot_confusion_matrix_illustration()"
      ]
    },
    {
      "cell_type": "code",
      "execution_count": null,
      "id": "64537a3c-bdea-4636-9458-905dc6c5552c",
      "metadata": {
        "id": "64537a3c-bdea-4636-9458-905dc6c5552c",
        "outputId": "44695443-ac51-4e8e-a401-0149b1510c35"
      },
      "outputs": [
        {
          "data": {
            "image/png": "[encoded data removed]",
            "text/plain": [
              "<Figure size 640x480 with 1 Axes>"
            ]
          },
          "metadata": {},
          "output_type": "display_data"
        }
      ],
      "source": [
        "mglearn.plots.plot_binary_confusion_matrix()"
      ]
    },
    {
      "cell_type": "code",
      "execution_count": null,
      "id": "a9c62298-c9a2-4de1-8c1d-c9ac4523671e",
      "metadata": {
        "id": "a9c62298-c9a2-4de1-8c1d-c9ac4523671e",
        "outputId": "6feb58c9-9642-4966-f916-f2b080940bbd"
      },
      "outputs": [
        {
          "name": "stdout",
          "output_type": "stream",
          "text": [
            "Наиболее часто встречающийся класс:\n",
            "[[403   0]\n",
            " [ 47   0]]\n",
            "\n",
            "Дамми-модель: \n",
            "[[403   0]\n",
            " [ 47   0]]\n",
            "\n",
            "Дерево решений: \n",
            "[[390  13]\n",
            " [ 24  23]]\n",
            "\n",
            "логистическая регрессия\n",
            "[[402   1]\n",
            " [  6  41]]\n"
          ]
        }
      ],
      "source": [
        " print(\"Наиболее часто встречающийся класс:\")\n",
        " print(confusion_matrix(y_test, pred_most_frequent))\n",
        " print(\"\\nДамми-модель: \")\n",
        " print(confusion_matrix(y_test, pred_dummy))\n",
        " print(\"\\nДерево решений: \")\n",
        " print(confusion_matrix(y_test, pred_tree))\n",
        " print(\"\\nлогистическая регрессия\")\n",
        " print(confusion_matrix(y_test, pred_logreg))"
      ]
    },
    {
      "cell_type": "code",
      "execution_count": null,
      "id": "5db79105-340a-4ee4-952d-85bee046d739",
      "metadata": {
        "id": "5db79105-340a-4ee4-952d-85bee046d739",
        "outputId": "501c317f-ce79-4ccb-87c4-cedded93a741"
      },
      "outputs": [
        {
          "name": "stdout",
          "output_type": "stream",
          "text": [
            "f1-мера наибольшая частота: 0.00\n",
            "f1-мера дамми: 0.00\n",
            "f1-мера дерево: 0.55\n",
            "f1-мера логистическая регрессия: 0.92\n"
          ]
        }
      ],
      "source": [
        "from sklearn.metrics import f1_score\n",
        "print(\"f1-мера наибольшая частота: {:.2f}\".format(f1_score(y_test, pred_most_frequent)))\n",
        "print(\"f1-мера дамми: {:.2f}\".format(f1_score(y_test, pred_dummy)))\n",
        "print(\"f1-мера дерево: {:.2f}\".format(f1_score(y_test, pred_tree)))\n",
        "print(\"f1-мера логистическая регрессия: {:.2f}\".format(f1_score(y_test, pred_logreg)))"
      ]
    },
    {
      "cell_type": "code",
      "execution_count": null,
      "id": "92188d0d-5558-4e10-8776-8153cba6482a",
      "metadata": {
        "id": "92188d0d-5558-4e10-8776-8153cba6482a",
        "outputId": "e4a2f60b-c3a5-4e78-85c3-163fc67ae3b2"
      },
      "outputs": [
        {
          "name": "stdout",
          "output_type": "stream",
          "text": [
            "              precision    recall  f1-score   support\n",
            "\n",
            "    not nine       0.90      1.00      0.94       403\n",
            "        nine       0.00      0.00      0.00        47\n",
            "\n",
            "    accuracy                           0.90       450\n",
            "   macro avg       0.45      0.50      0.47       450\n",
            "weighted avg       0.80      0.90      0.85       450\n",
            "\n"
          ]
        },
        {
          "name": "stderr",
          "output_type": "stream",
          "text": [
            "C:\\Users\\beish\\AppData\\Local\\Programs\\Python\\Python311\\Lib\\site-packages\\sklearn\\metrics\\_classification.py:1469: UndefinedMetricWarning: Precision and F-score are ill-defined and being set to 0.0 in labels with no predicted samples. Use `zero_division` parameter to control this behavior.\n",
            "  _warn_prf(average, modifier, msg_start, len(result))\n",
            "C:\\Users\\beish\\AppData\\Local\\Programs\\Python\\Python311\\Lib\\site-packages\\sklearn\\metrics\\_classification.py:1469: UndefinedMetricWarning: Precision and F-score are ill-defined and being set to 0.0 in labels with no predicted samples. Use `zero_division` parameter to control this behavior.\n",
            "  _warn_prf(average, modifier, msg_start, len(result))\n",
            "C:\\Users\\beish\\AppData\\Local\\Programs\\Python\\Python311\\Lib\\site-packages\\sklearn\\metrics\\_classification.py:1469: UndefinedMetricWarning: Precision and F-score are ill-defined and being set to 0.0 in labels with no predicted samples. Use `zero_division` parameter to control this behavior.\n",
            "  _warn_prf(average, modifier, msg_start, len(result))\n"
          ]
        }
      ],
      "source": [
        "from sklearn.metrics import classification_report\n",
        "print(classification_report(y_test, pred_most_frequent, target_names=[\"not nine\", \"nine\"]))"
      ]
    },
    {
      "cell_type": "code",
      "execution_count": null,
      "id": "54c8bb4c-5321-4a94-b480-e3dbc65f1f7e",
      "metadata": {
        "id": "54c8bb4c-5321-4a94-b480-e3dbc65f1f7e"
      },
      "outputs": [],
      "source": [
        "from mglearn.datasets import make_blobs\n",
        "X, y = make_blobs(n_samples=(400, 50), cluster_std=[7.0, 2], random_state=22)\n",
        "X_train, X_test, y_train, y_test = train_test_split(X, y, random_state=0)\n",
        "svc = SVC(gamma=.05).fit(X_train, y_train)\n",
        "from sklearn.metrics import precision_recall_curve\n",
        "precision, recall, thresholds = precision_recall_curve(y_test, svc.decision_function(X_test))"
      ]
    },
    {
      "cell_type": "code",
      "execution_count": null,
      "id": "405eb250-65bd-4286-8c9a-d93a5847f58f",
      "metadata": {
        "id": "405eb250-65bd-4286-8c9a-d93a5847f58f",
        "outputId": "b9f49cdd-8bec-4a68-da6a-a001577679e4"
      },
      "outputs": [
        {
          "data": {
            "text/plain": [
              "<matplotlib.legend.Legend at 0x1fa2ba06590>"
            ]
          },
          "execution_count": 50,
          "metadata": {},
          "output_type": "execute_result"
        },
        {
          "data": {
            "image/png": "[encoded data removed]",
            "text/plain": [
              "<Figure size 640x480 with 1 Axes>"
            ]
          },
          "metadata": {},
          "output_type": "display_data"
        }
      ],
      "source": [
        "# используем больший объем данных, чтобы получить более гладкую кривую\n",
        "X, y = make_blobs(n_samples=(4000, 500), cluster_std=[7.0, 2],\n",
        "        random_state=22)\n",
        "\n",
        "X_train, X_test, y_train, y_test = train_test_split(X, y, random_state=0)\n",
        "svc = SVC(gamma=.05).fit(X_train, y_train)\n",
        "precision, recall, thresholds = precision_recall_curve(y_test, svc.decision_function(X_test))\n",
        "# находим ближайший к нулю порог\n",
        "close_zero = np.argmin(np.abs(thresholds))\n",
        "\n",
        "plt.plot(precision[close_zero], recall[close_zero], 'o', markersize=10, label=\"пoрог 0\",\n",
        "         fillstyle=\"none\", c='k', mew=2)\n",
        "\n",
        "plt.plot(precision, recall, label=\"кривая точности-полноты\")\n",
        "plt.xlabel(\"Точность\")\n",
        "plt.ylabel(\"Полнота\")\n",
        "plt.legend(loc=\"best\")"
      ]
    },
    {
      "cell_type": "code",
      "execution_count": null,
      "id": "85d831c9-7b9a-44cc-9b7d-02f7a31a7ba5",
      "metadata": {
        "id": "85d831c9-7b9a-44cc-9b7d-02f7a31a7ba5",
        "outputId": "0db44333-5406-43c9-cc7e-60ae2ed4e464"
      },
      "outputs": [
        {
          "data": {
            "text/plain": [
              "<matplotlib.legend.Legend at 0x1fa2b9fadd0>"
            ]
          },
          "execution_count": 51,
          "metadata": {},
          "output_type": "execute_result"
        },
        {
          "data": {
            "image/png": "[encoded data removed]",
            "text/plain": [
              "<Figure size 640x480 with 1 Axes>"
            ]
          },
          "metadata": {},
          "output_type": "display_data"
        }
      ],
      "source": [
        "from sklearn.ensemble import RandomForestClassifier\n",
        "\n",
        "rf = RandomForestClassifier(n_estimators=100, random_state=0, max_features=2)\n",
        "rf.fit(X_train, y_train)\n",
        "\n",
        "# RandomForestClassifier has predict_proba, but not decision_function\n",
        "precision_rf, recall_rf, thresholds_rf = precision_recall_curve(\n",
        "    y_test, rf.predict_proba(X_test)[:, 1])\n",
        "\n",
        "plt.plot(precision, recall, label=\"svc\")\n",
        "\n",
        "plt.plot(precision[close_zero], recall[close_zero], 'o', markersize=10,\n",
        "         label=\"threshold zero svc\", fillstyle=\"none\", c='k', mew=2)\n",
        "\n",
        "plt.plot(precision_rf, recall_rf, label=\"rf\")\n",
        "\n",
        "close_default_rf = np.argmin(np.abs(thresholds_rf - 0.5))\n",
        "\n",
        "plt.plot(precision_rf[close_default_rf], recall_rf[close_default_rf], '^', c='k',\n",
        "         markersize=10, label=\"threshold 0.5 rf\", fillstyle=\"none\", mew=2)\n",
        "plt.xlabel(\"Precision\")\n",
        "plt.ylabel(\"Recall\")\n",
        "plt.legend(loc=\"best\")\n",
        "\n",
        "\n"
      ]
    },
    {
      "cell_type": "code",
      "execution_count": null,
      "id": "5ffa578f-710d-4e49-89ad-599c19891b02",
      "metadata": {
        "id": "5ffa578f-710d-4e49-89ad-599c19891b02",
        "outputId": "9cf9857a-a694-403b-92d8-4309f3be1428"
      },
      "outputs": [
        {
          "name": "stdout",
          "output_type": "stream",
          "text": [
            "Средняя точность гandom forest: 0.660\n",
            "Средняя точность svc: 0.666\n"
          ]
        }
      ],
      "source": [
        "from sklearn.metrics import average_precision_score\n",
        "ap_rf = average_precision_score(y_test, rf.predict_proba(X_test)[:, 1])\n",
        "ap_svc = average_precision_score(y_test, svc.decision_function(X_test))\n",
        "print(\"Средняя точность гandom forest: {:.3f}\".format(ap_rf))\n",
        "print(\"Средняя точность svc: {:.3f}\".format(ap_svc))"
      ]
    },
    {
      "cell_type": "code",
      "execution_count": null,
      "id": "33840403-6222-4f17-b412-40ac5ca7a66b",
      "metadata": {
        "id": "33840403-6222-4f17-b412-40ac5ca7a66b",
        "outputId": "f177c3e5-f5f6-43fd-8908-ed53a3f1ee7c"
      },
      "outputs": [
        {
          "name": "stdout",
          "output_type": "stream",
          "text": [
            "Accuracy: 0.951\n",
            "Confusion matrix:\n",
            "[[37  0  0  0  0  0  0  0  0  0]\n",
            " [ 0 40  0  0  0  0  0  0  2  1]\n",
            " [ 0  1 40  3  0  0  0  0  0  0]\n",
            " [ 0  0  0 43  0  0  0  0  1  1]\n",
            " [ 0  0  0  0 37  0  0  1  0  0]\n",
            " [ 0  0  0  0  0 46  0  0  0  2]\n",
            " [ 0  1  0  0  0  0 51  0  0  0]\n",
            " [ 0  0  0  1  1  0  0 46  0  0]\n",
            " [ 0  3  1  0  0  0  0  0 43  1]\n",
            " [ 0  0  0  0  0  1  0  0  1 45]]\n"
          ]
        },
        {
          "name": "stderr",
          "output_type": "stream",
          "text": [
            "C:\\Users\\beish\\AppData\\Local\\Programs\\Python\\Python311\\Lib\\site-packages\\sklearn\\linear_model\\_logistic.py:460: ConvergenceWarning: lbfgs failed to converge (status=1):\n",
            "STOP: TOTAL NO. of ITERATIONS REACHED LIMIT.\n",
            "\n",
            "Increase the number of iterations (max_iter) or scale the data as shown in:\n",
            "    https://scikit-learn.org/stable/modules/preprocessing.html\n",
            "Please also refer to the documentation for alternative solver options:\n",
            "    https://scikit-learn.org/stable/modules/linear_model.html#logistic-regression\n",
            "  n_iter_i = _check_optimize_result(\n"
          ]
        }
      ],
      "source": [
        "from sklearn.metrics import accuracy_score\n",
        "X_train, X_test, y_train, y_test = train_test_split( digits.data, digits.target, random_state=0)\n",
        "lr = LogisticRegression().fit(X_train, y_train)\n",
        "pred = lr.predict(X_test)\n",
        "print(\"Accuracy: {:.3f}\".format(accuracy_score(y_test, pred)))\n",
        "print(\"Confusion matrix:\\n{}\".format(confusion_matrix(y_test, pred)))"
      ]
    },
    {
      "cell_type": "code",
      "execution_count": null,
      "id": "4cd2a4f2-b209-4c08-9c78-e65eef2a03ce",
      "metadata": {
        "id": "4cd2a4f2-b209-4c08-9c78-e65eef2a03ce",
        "outputId": "dc5a6268-0689-43e4-c12d-a55b182e77b9"
      },
      "outputs": [
        {
          "data": {
            "image/png": "[encoded data removed]",
            "text/plain": [
              "<Figure size 640x480 with 2 Axes>"
            ]
          },
          "metadata": {},
          "output_type": "display_data"
        }
      ],
      "source": [
        "import seaborn as sns\n",
        "import matplotlib.pyplot as plt\n",
        "\n",
        "#строим тепловую карту средних значений правильности перекрестной проверки\n",
        "ax = sns.heatmap(confusion_matrix(y_test, pred), annot=True, xticklabels=digits.target_names,\n",
        "                 yticklabels = digits.target_names, cmap='gray')\n",
        "ax.set(xlabel='Predicted label', ylabel=\"True Label\")\n",
        "ax.xaxis.tick_top()\n",
        "plt.title(\"Confusion matrix\")\n",
        "plt.gca().invert_yaxis()\n",
        "plt.show()"
      ]
    },
    {
      "cell_type": "code",
      "execution_count": null,
      "id": "8b87a711-29b7-415a-9c79-556bc79c12d9",
      "metadata": {
        "id": "8b87a711-29b7-415a-9c79-556bc79c12d9",
        "outputId": "bb5850eb-2017-4bcb-d21e-7d85460b444c"
      },
      "outputs": [
        {
          "name": "stdout",
          "output_type": "stream",
          "text": [
            "              precision    recall  f1-score   support\n",
            "\n",
            "           0       1.00      1.00      1.00        37\n",
            "           1       0.89      0.93      0.91        43\n",
            "           2       0.98      0.91      0.94        44\n",
            "           3       0.91      0.96      0.93        45\n",
            "           4       0.97      0.97      0.97        38\n",
            "           5       0.98      0.96      0.97        48\n",
            "           6       1.00      0.98      0.99        52\n",
            "           7       0.98      0.96      0.97        48\n",
            "           8       0.91      0.90      0.91        48\n",
            "           9       0.90      0.96      0.93        47\n",
            "\n",
            "    accuracy                           0.95       450\n",
            "   macro avg       0.95      0.95      0.95       450\n",
            "weighted avg       0.95      0.95      0.95       450\n",
            "\n"
          ]
        }
      ],
      "source": [
        "print(classification_report(y_test, pred))"
      ]
    },
    {
      "cell_type": "code",
      "execution_count": null,
      "id": "22af455e-f13f-4289-b46f-44464fef4c41",
      "metadata": {
        "id": "22af455e-f13f-4289-b46f-44464fef4c41",
        "outputId": "bb5bb3c4-0cd1-48ef-f8d5-f2adc45b5556"
      },
      "outputs": [
        {
          "name": "stdout",
          "output_type": "stream",
          "text": [
            "Micro average f1 score: 0.951\n",
            "Macro average f1 score: 0.952\n"
          ]
        }
      ],
      "source": [
        "print(\"Micro average f1 score: {:.3f}\".format(\n",
        "    f1_score(y_test, pred, average=\"micro\")))\n",
        "print(\"Macro average f1 score: {:.3f}\".format(\n",
        "    f1_score(y_test, pred, average=\"macro\")))"
      ]
    },
    {
      "cell_type": "code",
      "execution_count": null,
      "id": "555e22ae-bdff-409b-9d5e-6f841cc543b4",
      "metadata": {
        "id": "555e22ae-bdff-409b-9d5e-6f841cc543b4",
        "outputId": "0d2e0cf8-49b4-4f44-8de5-76fccaf459a7"
      },
      "outputs": [
        {
          "name": "stdout",
          "output_type": "stream",
          "text": [
            "Метрика качества по умолчанию: [0.975      0.99166667 1.         0.99442897 0.98050139]\n",
            "Метрика качества явно заданная правильность: [0.975      0.99166667 1.         0.99442897 0.98050139]\n",
            "Метрика качества AUC: [0.99717078 0.99854252 1.         0.999828   0.98400413]\n"
          ]
        }
      ],
      "source": [
        "# метрика качества классификационной модели по умолчанию правильность\n",
        "print(\"Метрика качества по умолчанию: {}\".format(cross_val_score(SVC(), digits.data, digits.target ==\n",
        "                9)))\n",
        "# значение параметра scoring=\"accuracy\" не меняет результатов\n",
        "explicit_accuracy=cross_val_score(SVC(), digits.data, digits.target == 9,\n",
        "                                  scoring=\"accuracy\")\n",
        "print(\"Метрика качества явно заданная правильность: {}\".format(explicit_accuracy))\n",
        "roc_auc = cross_val_score(SVC(), digits.data, digits.target == 9, scoring=\"roc_auc\")\n",
        "print(\"Метрика качества AUC: {}\".format(roc_auc))"
      ]
    },
    {
      "cell_type": "code",
      "execution_count": null,
      "id": "5361c1b1-66b5-4a90-9667-c38d8e14e4e4",
      "metadata": {
        "id": "5361c1b1-66b5-4a90-9667-c38d8e14e4e4",
        "outputId": "68a9ccd3-4e77-462b-b225-94c270153ec7"
      },
      "outputs": [
        {
          "name": "stdout",
          "output_type": "stream",
          "text": [
            "Решетчатый поиск с использованием правильности\n",
            "Наилучшие параметры: {'gamma': 0.0001}\n",
            "Наилучшее значение перекр проверки (правильность)): 0.976\n",
            "AUC на тестовом наборе: 0.992\n",
            "Правильность на тестовом наборе: 0.973\n"
          ]
        }
      ],
      "source": [
        "from sklearn.metrics import roc_auc_score\n",
        "X_train, X_test, y_train, y_test = train_test_split(digits.data, digits.target == 9, random_state=0)\n",
        "\n",
        "# задаем не самую удачную сетку параметров для иллюстрации:\n",
        "param_grid = {'gamma': [0.0001, 0.01, 0.1, 1, 10]}\n",
        "\n",
        "# используем метрику по умолчанию, то есть правильность:\n",
        "grid = GridSearchCV(SVC(), param_grid=param_grid)\n",
        "grid.fit(X_train, y_train)\n",
        "print(\"Решетчатый поиск с использованием правильности\")\n",
        "print(\"Наилучшие параметры:\", grid.best_params_)\n",
        "print(\"Наилучшее значение перекр проверки (правильность)): {:.3f}\".format(grid.best_score_))\n",
        "print(\"AUC на тестовом наборе: {:.3f}\".format(roc_auc_score(y_test, grid.decision_function(X_test))))\n",
        "print(\"Правильность на тестовом наборе: {:.3f}\".format(grid.score(X_test, y_test)))"
      ]
    },
    {
      "cell_type": "code",
      "execution_count": null,
      "id": "15f737db-5ffa-47a1-90d2-86ac82de1793",
      "metadata": {
        "id": "15f737db-5ffa-47a1-90d2-86ac82de1793",
        "outputId": "ad07393e-8735-4760-f0b6-65835d3c4255"
      },
      "outputs": [
        {
          "name": "stdout",
          "output_type": "stream",
          "text": [
            "\n",
            "Решетчатый поиск с использованием AUC\n",
            "Наилучшие параметры: {'gamma': 0.01}\n",
            "Наилучшее значение перекр проверки (AUC): 0.998\n",
            "AUC на тестовом наборе: 1.000\n",
            "Правильность на тестовом наборе: 1.000\n"
          ]
        }
      ],
      "source": [
        "# используем метрику качества AUC:\n",
        "grid = GridSearchCV(SVC(), param_grid=param_grid, scoring=\"roc_auc\")\n",
        "grid.fit(X_train, y_train)\n",
        "print(\"\\nРешетчатый поиск с использованием AUC\")\n",
        "print(\"Наилучшие параметры:\", grid.best_params_)\n",
        "print(\"Наилучшее значение перекр проверки (AUC): {:.3f}\".format(grid.best_score_))\n",
        "print(\"AUC на тестовом наборе: {:.3f}\".format(roc_auc_score(y_test, grid.decision_function(X_test))))\n",
        "print(\"Правильность на тестовом наборе: {:.3f}\".format(grid.score(X_test, y_test)))"
      ]
    },
    {
      "cell_type": "markdown",
      "id": "32fb4857-9655-445e-946b-36fd3a83ae73",
      "metadata": {
        "id": "32fb4857-9655-445e-946b-36fd3a83ae73"
      },
      "source": []
    },
    {
      "cell_type": "markdown",
      "id": "67652064-429b-42c4-8868-8a8355107937",
      "metadata": {
        "id": "67652064-429b-42c4-8868-8a8355107937"
      },
      "source": [
        "### Улучшение Качества Классификации на Датасете Breast Cancer: Применение Перекрестной Проверки, Решетчатого Поиска и Метрик Модели"
      ]
    },
    {
      "cell_type": "code",
      "execution_count": null,
      "id": "7761007c-e449-44ff-a7d7-6bf963d7b90f",
      "metadata": {
        "id": "7761007c-e449-44ff-a7d7-6bf963d7b90f"
      },
      "outputs": [],
      "source": [
        "import numpy as np\n",
        "import pandas as pd\n",
        "from sklearn.datasets import load_breast_cancer\n",
        "from sklearn.model_selection import train_test_split, cross_val_score, GridSearchCV\n",
        "from sklearn.ensemble import RandomForestClassifier\n",
        "from sklearn.metrics import accuracy_score, classification_report\n",
        "from sklearn.svm import SVC\n"
      ]
    },
    {
      "cell_type": "code",
      "execution_count": null,
      "id": "a31e3bce-bcf8-4f00-91e1-33a121e5bfa5",
      "metadata": {
        "id": "a31e3bce-bcf8-4f00-91e1-33a121e5bfa5"
      },
      "outputs": [],
      "source": [
        "breast = load_breast_cancer()\n",
        "X = pd.DataFrame(breast.data, columns=breast.feature_names)\n",
        "y = pd.Series(breast.target)\n",
        "\n",
        "X_train, X_test, y_train, y_test = train_test_split(X, y, test_size=0.2, random_state=42)\n"
      ]
    },
    {
      "cell_type": "code",
      "execution_count": null,
      "id": "f5cda6a4-a5d3-4e4e-9d4f-6b51d58b49bd",
      "metadata": {
        "id": "f5cda6a4-a5d3-4e4e-9d4f-6b51d58b49bd"
      },
      "outputs": [],
      "source": [
        "model = RandomForestClassifier(random_state=2)\n"
      ]
    },
    {
      "cell_type": "markdown",
      "id": "a738802c-de9d-43e7-8147-930c1b6f4628",
      "metadata": {
        "id": "a738802c-de9d-43e7-8147-930c1b6f4628"
      },
      "source": [
        "#### Оценка модели с использованием перекрестной проверки"
      ]
    },
    {
      "cell_type": "code",
      "execution_count": null,
      "id": "e60ff6bc-6f20-4086-aa17-0ab32229ff62",
      "metadata": {
        "id": "e60ff6bc-6f20-4086-aa17-0ab32229ff62",
        "outputId": "294f191f-f1a4-42f3-ef70-0fe2e65da4ba"
      },
      "outputs": [
        {
          "name": "stdout",
          "output_type": "stream",
          "text": [
            "Оценки перекрестной проверки: [0.94505495 0.95604396 0.97802198 0.96703297 0.91208791]\n",
            "Средняя точность: 0.9516483516483516\n"
          ]
        }
      ],
      "source": [
        "cross = cross_val_score(logreg, X_train, y_train)\n",
        "print(\"Оценки перекрестной проверки:\", cross)\n",
        "print(\"Средняя точность:\", np.mean(cross))\n"
      ]
    },
    {
      "cell_type": "code",
      "execution_count": null,
      "id": "9b7ce0bd-a19f-41f2-89dd-0419a058b722",
      "metadata": {
        "id": "9b7ce0bd-a19f-41f2-89dd-0419a058b722",
        "outputId": "896c0d62-870e-40aa-f4bc-b4d29ef6387d"
      },
      "outputs": [
        {
          "ename": "NameError",
          "evalue": "name 'X_train_scaled' is not defined",
          "output_type": "error",
          "traceback": [
            "\u001b[1;31m---------------------------------------------------------------------------\u001b[0m",
            "\u001b[1;31mNameError\u001b[0m                                 Traceback (most recent call last)",
            "Cell \u001b[1;32mIn[64], line 5\u001b[0m\n\u001b[0;32m      2\u001b[0m improved_model \u001b[38;5;241m=\u001b[39m RandomForestClassifier(random_state\u001b[38;5;241m=\u001b[39m\u001b[38;5;241m42\u001b[39m)\n\u001b[0;32m      4\u001b[0m \u001b[38;5;66;03m# Перекрестная проверка для оценки улучшенной модели\u001b[39;00m\n\u001b[1;32m----> 5\u001b[0m cross_val_scores_improved \u001b[38;5;241m=\u001b[39m cross_val_score(improved_model, \u001b[43mX_train_scaled\u001b[49m, y_train, cv\u001b[38;5;241m=\u001b[39m\u001b[38;5;241m5\u001b[39m)\n\u001b[0;32m      6\u001b[0m \u001b[38;5;28mprint\u001b[39m(\u001b[38;5;124m\"\u001b[39m\u001b[38;5;124mОценки перекрестной проверки (Improved Model):\u001b[39m\u001b[38;5;124m\"\u001b[39m, cross_val_scores_improved)\n\u001b[0;32m      7\u001b[0m \u001b[38;5;28mprint\u001b[39m(\u001b[38;5;124m\"\u001b[39m\u001b[38;5;124mСредняя точность:\u001b[39m\u001b[38;5;124m\"\u001b[39m, np\u001b[38;5;241m.\u001b[39mmean(cross_val_scores_improved))\n",
            "\u001b[1;31mNameError\u001b[0m: name 'X_train_scaled' is not defined"
          ]
        }
      ],
      "source": [
        "## Инициализация улучшенной модели\n",
        "improved_model = RandomForestClassifier(random_state=42)\n",
        "\n",
        "# Перекрестная проверка для оценки улучшенной модели\n",
        "cross_val_scores_improved = cross_val_score(improved_model, X_train_scaled, y_train, cv=5)\n",
        "print(\"Оценки перекрестной проверки (Improved Model):\", cross_val_scores_improved)\n",
        "print(\"Средняя точность:\", np.mean(cross_val_scores_improved))"
      ]
    },
    {
      "cell_type": "markdown",
      "id": "7b6f117e-edca-417c-b2bf-104cf6524a46",
      "metadata": {
        "id": "7b6f117e-edca-417c-b2bf-104cf6524a46"
      },
      "source": [
        "#### Решетчатый поиск"
      ]
    },
    {
      "cell_type": "code",
      "execution_count": null,
      "id": "4f531ee7-b054-40f9-aa89-cd4e663fd5c6",
      "metadata": {
        "id": "4f531ee7-b054-40f9-aa89-cd4e663fd5c6"
      },
      "outputs": [],
      "source": [
        "print(\"Размер обучающего набора: {} размер тестового набора: {}\".format(X_train.shape[0], X_test.shape[0]))\n",
        "\n",
        "best_score = 0\n",
        "for gamma in [0.001, 0.01, 0.1, 1, 10, 100]:\n",
        "    for C in [0.001, 0.01, 0.1, 1, 10, 100]:\n",
        "        svm = SVC(gamma = gamma, C = C)\n",
        "        svm.fit(X_train, y_train)\n",
        "        score = svm.score(X_test, y_test)\n",
        "\n",
        "        if score > best_score:\n",
        "            best_score = score\n",
        "            best_parameters = {\"C\":C, \"gamma\": gamma}\n",
        "print(\"Наилучшее значение правильности: {:.2f}\".format(best_score))\n",
        "print(\"Наилучшее значение параметров: {}\".format(best_parameters))"
      ]
    },
    {
      "cell_type": "code",
      "execution_count": null,
      "id": "317cf8de-82af-4170-bec1-4afcaf07948a",
      "metadata": {
        "id": "317cf8de-82af-4170-bec1-4afcaf07948a"
      },
      "outputs": [],
      "source": [
        "import numpy as np\n",
        "from sklearn.ensemble import RandomForestClassifier\n",
        "from sklearn.model_selection import cross_val_score, StratifiedKFold\n",
        "from sklearn.preprocessing import StandardScaler\n",
        "from sklearn.datasets import load_breast_cancer\n",
        "from sklearn.model_selection import train_test_split\n",
        "\n",
        "# Загрузка данных\n",
        "breast = load_breast_cancer()\n",
        "X = breast.data\n",
        "y = breast.target\n",
        "\n",
        "# Разделение данных на обучающий и тестовый наборы\n",
        "X_train, X_test, y_train, y_test = train_test_split(X, y, test_size=0.2, random_state=42)\n",
        "\n",
        "# Масштабирование признаков\n",
        "scaler = StandardScaler()\n",
        "X_train_scaled = scaler.fit_transform(X_train)\n",
        "X_test_scaled = scaler.transform(X_test)\n",
        "\n",
        "# Учет баланса классов\n",
        "improved_model = RandomForestClassifier(n_estimators=100, class_weight='balanced', n_jobs=1, random_state=42)\n",
        "\n",
        "# Использование стратифицированной кросс-валидации\n",
        "cv = StratifiedKFold(n_splits=5, shuffle=True, random_state=42)\n",
        "cross_val_scores_improved = cross_val_score(improved_model, X_train_scaled, y_train, cv=cv)\n",
        "\n",
        "# Вывод результатов перекрестной проверки\n",
        "print(\"Оценки перекрестной проверки (Improved Model):\", cross_val_scores_improved)\n",
        "print(\"Средняя точность:\", np.mean(cross_val_scores_improved))\n"
      ]
    },
    {
      "cell_type": "markdown",
      "id": "252be993-3405-4118-abe8-5a90e9ce9488",
      "metadata": {
        "id": "252be993-3405-4118-abe8-5a90e9ce9488"
      },
      "source": [
        "#### Метрики качества моделей"
      ]
    },
    {
      "cell_type": "code",
      "execution_count": null,
      "id": "fb13c3ec-466a-4eae-b849-588e1cd30fc9",
      "metadata": {
        "id": "fb13c3ec-466a-4eae-b849-588e1cd30fc9"
      },
      "outputs": [],
      "source": [
        "from sklearn.tree import DecisionTreeClassifier\n",
        "tree = DecisionTreeClassifier(max_depth=2).fit(X_train, y_train)\n",
        "pred_tree = tree.predict(X_test)\n",
        "print(\"Правильность на тестовом наборе: {:.2f}\".format(tree.score(X_test, y_test)))"
      ]
    },
    {
      "cell_type": "markdown",
      "id": "b2315b88-5001-4fd4-aa22-79c07baadb22",
      "metadata": {
        "id": "b2315b88-5001-4fd4-aa22-79c07baadb22"
      },
      "source": [
        "#####"
      ]
    },
    {
      "cell_type": "code",
      "execution_count": null,
      "id": "e30e7470-fdcb-429d-9c34-24dc158d6349",
      "metadata": {
        "id": "e30e7470-fdcb-429d-9c34-24dc158d6349"
      },
      "outputs": [],
      "source": [
        "from sklearn.linear_model import LogisticRegression\n",
        "dummy = DummyClassifier().fit(X_train, y_train)\n",
        "pred_dummy = dummy.predict(X_test)\n",
        "print(\"Правильность dummy: {:.2f}\".format(dummy.score(X_test, y_test)))\n",
        "logreg = LogisticRegression(C=0.1, max_iter=10000).fit(X_train, y_train)\n",
        "pred_logreg = logreg.predict(X_test)\n",
        "print(\"Правильность dummy: {:.2f}\".format(logreg.score(X_test, y_test)))"
      ]
    },
    {
      "cell_type": "markdown",
      "id": "19cd5779-784a-4a81-85fa-6ce6cf03fcfd",
      "metadata": {
        "id": "19cd5779-784a-4a81-85fa-6ce6cf03fcfd"
      },
      "source": [
        "### Собственная модель"
      ]
    },
    {
      "cell_type": "code",
      "execution_count": null,
      "id": "6bdf0ee7-e8ec-46dc-8ef3-e720984ba55d",
      "metadata": {
        "id": "6bdf0ee7-e8ec-46dc-8ef3-e720984ba55d"
      },
      "outputs": [],
      "source": [
        "import pandas as pd\n",
        "import random\n",
        "\n",
        "\n",
        "salaries = [40000, 50000, 60000, 70000, 80000]\n",
        "cities = ['Bishkek', 'Moscow', 'London', 'Paris', 'New York', 'Tokyo']\n",
        "ages = list(range(30, 66))\n",
        "vacation_preferences = ['Shopping', 'Beach holiday', 'Mountain retreat', 'City exploration']\n",
        "transport_preferences = ['auto', 'plane', 'train', 'cruise']\n",
        "target_cities = ['London', 'Turkey', 'New York', 'Paris', 'Tokyo', 'Dubai']\n",
        "\n",
        "\n",
        "data = {\n",
        "    'salary': [random.choice(salaries) for _ in range(1000)],\n",
        "    'city': [random.choice(cities) for _ in range(1000)],\n",
        "    'age': [random.choice(ages) for _ in range(1000)],\n",
        "    'vacation_prefer': [random.choice(vacation_preferences) for _ in range(1000)],\n",
        "    'transport_prefer': [random.choice(transport_preferences) for _ in range(1000)],\n",
        "    'target': [random.choice(target_cities) for _ in range(1000)]\n",
        "}\n",
        "\n",
        "\n",
        "df = pd.DataFrame(data)\n"
      ]
    },
    {
      "cell_type": "code",
      "execution_count": null,
      "id": "5e4661d3-1ba5-40a5-8c9b-b54aa9f5a4db",
      "metadata": {
        "id": "5e4661d3-1ba5-40a5-8c9b-b54aa9f5a4db"
      },
      "outputs": [],
      "source": [
        "df_encoded = pd.get_dummies(df, columns=['city', 'vacation_prefer', 'transport_prefer'])\n",
        "\n",
        "from sklearn.model_selection import train_test_split\n",
        "\n",
        "X = df_encoded.drop('target', axis=1)\n",
        "y = df_encoded['target']\n",
        "\n",
        "X_train, X_test, y_train, y_test = train_test_split(X, y, test_size=0.2, random_state=42)\n",
        "\n",
        "from sklearn.ensemble import RandomForestClassifier\n",
        "\n",
        "model = RandomForestClassifier(random_state=42)\n",
        "\n",
        "model.fit(X_train, y_train)\n",
        "\n",
        "random_data = {\n",
        "    'salary': [random.choice(salaries)],\n",
        "    'city': [random.choice(cities)],\n",
        "    'age': [random.choice(ages)],\n",
        "    'vacation_prefer': [random.choice(vacation_preferences)],\n",
        "    'transport_prefer': [random.choice(transport_preferences)]\n",
        "}\n",
        "\n",
        "\n",
        "random_df = pd.DataFrame(random_data)\n",
        "random_df_encoded = pd.get_dummies(random_df, columns=['city', 'vacation_prefer', 'transport_prefer'])\n",
        "\n",
        "\n",
        "missing_columns = set(X_train.columns) - set(random_df_encoded.columns)\n",
        "for column in missing_columns:\n",
        "    random_df_encoded[column] = 0\n",
        "\n",
        "random_df_encoded = random_df_encoded[X_train.columns]\n",
        "prediction = model.predict(random_df_encoded)\n",
        "person_info = {\n",
        "    'salary': random_data['salary'][0],\n",
        "    'city': random_data['city'][0],\n",
        "    'age': random_data['age'][0],\n",
        "    'vacation_prefer': random_data['vacation_prefer'][0],\n",
        "    'transport_prefer': random_data['transport_prefer'][0]\n",
        "}\n",
        "accuracy1 = model.score(X_test, y_test)\n",
        "print(f'Точность: {accuracy1}')\n",
        "print(person_info)\n",
        "print(f'Прогнозируемый город: {prediction[0]}')\n"
      ]
    },
    {
      "cell_type": "code",
      "execution_count": null,
      "id": "c330d67d-7695-4b2e-980a-bad926f9cb4b",
      "metadata": {
        "id": "c330d67d-7695-4b2e-980a-bad926f9cb4b"
      },
      "outputs": [],
      "source": [
        "import pandas as pd\n",
        "import random\n",
        "from sklearn.model_selection import train_test_split, GridSearchCV\n",
        "from sklearn.ensemble import RandomForestClassifier\n",
        "\n",
        "df_encoded = pd.get_dummies(df, columns=['city', 'vacation_prefer', 'transport_prefer'])\n",
        "\n",
        "X = df_encoded.drop('target', axis=1)\n",
        "y = df_encoded['target']\n",
        "X_train, X_test, y_train, y_test = train_test_split(X, y, test_size=0.2, random_state=42)\n",
        "param_grid = {\n",
        "    'n_estimators': [50, 100, 200],\n",
        "    'max_depth': [None, 10, 20],\n",
        "    'min_samples_split': [2, 5, 10],\n",
        "    'min_samples_leaf': [1, 2, 4]\n",
        "}\n",
        "\n",
        "model = RandomForestClassifier(random_state=42)\n",
        "grid_search = GridSearchCV(model, param_grid, cv=5)\n",
        "grid_search.fit(X_train, y_train)\n",
        "best_model = grid_search.best_estimator_\n",
        "\n",
        "accuracy2 = best_model.score(X_test, y_test)\n",
        "print(f'Accuracy: {accuracy2}')\n",
        "\n",
        "random_data = {\n",
        "    'salary': [random.choice(salaries)],\n",
        "    'city': [random.choice(cities)],\n",
        "    'age': [random.choice(ages)],\n",
        "    'vacation_prefer': [random.choice(vacation_preferences)],\n",
        "    'transport_prefer': [random.choice(transport_preferences)]\n",
        "}\n",
        "\n",
        "random_df = pd.DataFrame(random_data)\n",
        "random_df_encoded = pd.get_dummies(random_df, columns=['city', 'vacation_prefer', 'transport_prefer'])\n",
        "\n",
        "missing_columns = set(X_train.columns) - set(random_df_encoded.columns)\n",
        "for column in missing_columns:\n",
        "    random_df_encoded[column] = 0\n",
        "\n",
        "random_df_encoded = random_df_encoded[X_train.columns]\n",
        "\n",
        "\n",
        "prediction = best_model.predict(random_df_encoded)\n",
        "\n",
        "person_info = {\n",
        "    'salary': random_data['salary'][0],\n",
        "    'city': random_data['city'][0],\n",
        "    'age': random_data['age'][0],\n",
        "    'vacation_prefer': random_data['vacation_prefer'][0],\n",
        "    'transport_prefer': random_data['transport_prefer'][0]\n",
        "}\n",
        "\n",
        "print(f'Прогнозируемый город: {prediction[0]}')\n"
      ]
    },
    {
      "cell_type": "code",
      "execution_count": null,
      "id": "5d5ae232-9c5e-47fc-b128-d5dfbb04a224",
      "metadata": {
        "id": "5d5ae232-9c5e-47fc-b128-d5dfbb04a224"
      },
      "outputs": [],
      "source": []
    },
    {
      "cell_type": "code",
      "execution_count": null,
      "id": "917a7592-5db3-4b60-84e1-d2d302a87a54",
      "metadata": {
        "id": "917a7592-5db3-4b60-84e1-d2d302a87a54"
      },
      "outputs": [],
      "source": []
    }
  ],
  "metadata": {
    "kernelspec": {
      "display_name": "Python 3 (ipykernel)",
      "language": "python",
      "name": "python3"
    },
    "language_info": {
      "codemirror_mode": {
        "name": "ipython",
        "version": 3
      },
      "file_extension": ".py",
      "mimetype": "text/x-python",
      "name": "python",
      "nbconvert_exporter": "python",
      "pygments_lexer": "ipython3",
      "version": "3.11.5"
    },
    "colab": {
      "provenance": []
    }
  },
  "nbformat": 4,
  "nbformat_minor": 5
}